{
 "cells": [
  {
   "cell_type": "code",
   "execution_count": 1,
   "id": "6523c3f1-8ad3-48d9-8344-ae7ef320bb89",
   "metadata": {},
   "outputs": [
    {
     "data": {
      "text/plain": [
       "{}"
      ]
     },
     "execution_count": 1,
     "metadata": {},
     "output_type": "execute_result"
    }
   ],
   "source": [
    "dict = {}\n",
    "dict"
   ]
  },
  {
   "cell_type": "code",
   "execution_count": 2,
   "id": "76be2c78-bd28-4815-b935-ea0901e4dda5",
   "metadata": {},
   "outputs": [
    {
     "data": {
      "text/plain": [
       "{'frango': 3.0, 'carne bovina': 2.0, 'carne suína': 2.5}"
      ]
     },
     "execution_count": 2,
     "metadata": {},
     "output_type": "execute_result"
    }
   ],
   "source": [
    "açougue = {\"frango\": 3.0, \"carne bovina\": 2.0, \"carne suína\": 2.5}\n",
    "açougue"
   ]
  },
  {
   "cell_type": "code",
   "execution_count": 3,
   "id": "c316bcde-f8bd-4282-a6ed-27c4753d8db1",
   "metadata": {},
   "outputs": [
    {
     "data": {
      "text/plain": [
       "3.0"
      ]
     },
     "execution_count": 3,
     "metadata": {},
     "output_type": "execute_result"
    }
   ],
   "source": [
    "açougue[\"frango\"]"
   ]
  },
  {
   "cell_type": "code",
   "execution_count": 4,
   "id": "517ae6b5-c4e2-44d3-8741-7e417e1dd101",
   "metadata": {},
   "outputs": [
    {
     "data": {
      "text/plain": [
       "{'frango': 3.0, 'carne bovina': 2.0, 'carne suína': 2.5, 'alcatra': 3.5}"
      ]
     },
     "execution_count": 4,
     "metadata": {},
     "output_type": "execute_result"
    }
   ],
   "source": [
    "açougue[\"alcatra\"]=3.5\n",
    "açougue"
   ]
  },
  {
   "cell_type": "code",
   "execution_count": 5,
   "id": "7b70e420-4ccf-43e8-bdbc-7048c89167d1",
   "metadata": {},
   "outputs": [
    {
     "data": {
      "text/plain": [
       "{'frango': 5.0, 'carne bovina': 2.0, 'carne suína': 2.5, 'alcatra': 3.5}"
      ]
     },
     "execution_count": 5,
     "metadata": {},
     "output_type": "execute_result"
    }
   ],
   "source": [
    "açougue[\"frango\"]=5.0\n",
    "açougue"
   ]
  },
  {
   "cell_type": "code",
   "execution_count": 6,
   "id": "df5428dd-d708-4951-a9fe-6b8c1d7fb3ac",
   "metadata": {},
   "outputs": [
    {
     "data": {
      "text/plain": [
       "{'carne bovina': 2.0, 'carne suína': 2.5, 'alcatra': 3.5}"
      ]
     },
     "execution_count": 6,
     "metadata": {},
     "output_type": "execute_result"
    }
   ],
   "source": [
    "del açougue[\"frango\"]\n",
    "açougue"
   ]
  },
  {
   "cell_type": "code",
   "execution_count": 7,
   "id": "1baeb1b7-f67b-4ad4-a1ba-241c5e64d64f",
   "metadata": {},
   "outputs": [
    {
     "data": {
      "text/plain": [
       "True"
      ]
     },
     "execution_count": 7,
     "metadata": {},
     "output_type": "execute_result"
    }
   ],
   "source": [
    "\"carne bovina\" in açougue"
   ]
  },
  {
   "cell_type": "code",
   "execution_count": 8,
   "id": "194c82fa-6953-4094-896d-216e8363f4b7",
   "metadata": {},
   "outputs": [
    {
     "data": {
      "text/plain": [
       "{'carne bovina': 2.0, 'carne suína': 2.5, 'alcatra': 3.5, 'frango': 5.0}"
      ]
     },
     "execution_count": 8,
     "metadata": {},
     "output_type": "execute_result"
    }
   ],
   "source": [
    "açougue[\"frango\"]=5.0\n",
    "açougue"
   ]
  },
  {
   "cell_type": "code",
   "execution_count": 9,
   "id": "cac8dae2-7a66-43d6-aa67-e20ea0fee446",
   "metadata": {},
   "outputs": [
    {
     "data": {
      "text/plain": [
       "['carne bovina', 'carne suína', 'alcatra', 'frango']"
      ]
     },
     "execution_count": 9,
     "metadata": {},
     "output_type": "execute_result"
    }
   ],
   "source": [
    "list(açougue.keys())"
   ]
  },
  {
   "cell_type": "code",
   "execution_count": 10,
   "id": "710a902b-0104-4f95-a95b-17befbb9c0d1",
   "metadata": {},
   "outputs": [
    {
     "data": {
      "text/plain": [
       "[2.0, 2.5, 3.5, 5.0]"
      ]
     },
     "execution_count": 10,
     "metadata": {},
     "output_type": "execute_result"
    }
   ],
   "source": [
    "list(açougue.values())"
   ]
  },
  {
   "cell_type": "code",
   "execution_count": 11,
   "id": "4e5c6d7f-4581-4a68-a6fd-1287ba9186a6",
   "metadata": {},
   "outputs": [
    {
     "name": "stdout",
     "output_type": "stream",
     "text": [
      "4\n"
     ]
    }
   ],
   "source": [
    "c = len(açougue)\n",
    "print(c)"
   ]
  },
  {
   "cell_type": "code",
   "execution_count": 12,
   "id": "34f6f363-8ea6-4023-b92f-9c04521ac0d4",
   "metadata": {},
   "outputs": [
    {
     "data": {
      "text/plain": [
       "{'açougue': {'frango': 4.0, 'carne bovina': 2.0, 'carne suína': 2.5}}"
      ]
     },
     "execution_count": 12,
     "metadata": {},
     "output_type": "execute_result"
    }
   ],
   "source": [
    "supermercado = {\"açougue\": {\"frango\": 4.0, \"carne bovina\": 2.0, \"carne suína\": 2.5}}\n",
    "supermercado"
   ]
  },
  {
   "cell_type": "code",
   "execution_count": 13,
   "id": "840a0a9f-756a-49a0-a01e-846439ba6493",
   "metadata": {},
   "outputs": [
    {
     "data": {
      "text/plain": [
       "4.0"
      ]
     },
     "execution_count": 13,
     "metadata": {},
     "output_type": "execute_result"
    }
   ],
   "source": [
    "supermercado[\"açougue\"][\"frango\"]"
   ]
  },
  {
   "cell_type": "code",
   "execution_count": 14,
   "id": "d9570b9e-b81b-4abe-8221-22de85221712",
   "metadata": {},
   "outputs": [
    {
     "data": {
      "text/plain": [
       "{'açougue': {'frango': 4.0,\n",
       "  'carne bovina': 2.0,\n",
       "  'carne suína': 2.5,\n",
       "  'bacalhau': 6.0}}"
      ]
     },
     "execution_count": 14,
     "metadata": {},
     "output_type": "execute_result"
    }
   ],
   "source": [
    "supermercado[\"açougue\"][\"bacalhau\"]=6.0\n",
    "supermercado"
   ]
  },
  {
   "cell_type": "code",
   "execution_count": 15,
   "id": "5a88fbf8-c9a7-47df-974d-4b6199930140",
   "metadata": {},
   "outputs": [
    {
     "data": {
      "text/plain": [
       "{'açougue': {'frango': 1.0,\n",
       "  'carne bovina': 2.0,\n",
       "  'carne suína': 2.5,\n",
       "  'bacalhau': 6.0}}"
      ]
     },
     "execution_count": 15,
     "metadata": {},
     "output_type": "execute_result"
    }
   ],
   "source": [
    "supermercado[\"açougue\"][\"frango\"]=1.0\n",
    "supermercado"
   ]
  },
  {
   "cell_type": "code",
   "execution_count": 16,
   "id": "cd196f75-6c9a-496b-b9ee-588ce667cac5",
   "metadata": {},
   "outputs": [
    {
     "data": {
      "text/plain": [
       "{'açougue': {'carne bovina': 2.0, 'carne suína': 2.5, 'bacalhau': 6.0}}"
      ]
     },
     "execution_count": 16,
     "metadata": {},
     "output_type": "execute_result"
    }
   ],
   "source": [
    "del supermercado[\"açougue\"][\"frango\"]\n",
    "supermercado"
   ]
  },
  {
   "cell_type": "code",
   "execution_count": 17,
   "id": "5418de62-1d44-4c81-be1a-d26a1fd62e9f",
   "metadata": {},
   "outputs": [
    {
     "data": {
      "text/plain": [
       "{'açougue': {'carne bovina': 2.0,\n",
       "  'carne suína': 2.5,\n",
       "  'bacalhau': 6.0,\n",
       "  'frango': 1.5}}"
      ]
     },
     "execution_count": 17,
     "metadata": {},
     "output_type": "execute_result"
    }
   ],
   "source": [
    "supermercado[\"açougue\"][\"frango\"]=1.5\n",
    "supermercado"
   ]
  },
  {
   "cell_type": "code",
   "execution_count": 18,
   "id": "b7b4965d-a5a1-4b9a-a578-bac13087e726",
   "metadata": {},
   "outputs": [
    {
     "data": {
      "text/plain": [
       "True"
      ]
     },
     "execution_count": 18,
     "metadata": {},
     "output_type": "execute_result"
    }
   ],
   "source": [
    "\"bacalhau\" in supermercado[\"açougue\"]"
   ]
  },
  {
   "cell_type": "code",
   "execution_count": 19,
   "id": "e1a7baf7-1060-4c17-9e7a-a13cb69bdbcf",
   "metadata": {},
   "outputs": [
    {
     "data": {
      "text/plain": [
       "['carne bovina', 'carne suína', 'bacalhau', 'frango']"
      ]
     },
     "execution_count": 19,
     "metadata": {},
     "output_type": "execute_result"
    }
   ],
   "source": [
    "list(supermercado[\"açougue\"].keys())"
   ]
  },
  {
   "cell_type": "code",
   "execution_count": 20,
   "id": "2aa94a2b-cd17-4683-be16-27cd9a4d8c52",
   "metadata": {},
   "outputs": [
    {
     "data": {
      "text/plain": [
       "[2.0, 2.5, 6.0, 1.5]"
      ]
     },
     "execution_count": 20,
     "metadata": {},
     "output_type": "execute_result"
    }
   ],
   "source": [
    "list(supermercado[\"açougue\"].values())"
   ]
  },
  {
   "cell_type": "code",
   "execution_count": 21,
   "id": "8fce0473-6b5d-4a08-9a09-8264557237a2",
   "metadata": {},
   "outputs": [
    {
     "name": "stdout",
     "output_type": "stream",
     "text": [
      "4\n"
     ]
    }
   ],
   "source": [
    "c = len(supermercado[\"açougue\"])\n",
    "print(c)"
   ]
  },
  {
   "cell_type": "code",
   "execution_count": 22,
   "id": "e64a5a10-0199-4ba1-b629-d2b27a22f64f",
   "metadata": {},
   "outputs": [
    {
     "name": "stdin",
     "output_type": "stream",
     "text": [
      "Digite o valor inicial:  12\n",
      "Digite o valor final:  15\n"
     ]
    },
    {
     "name": "stdout",
     "output_type": "stream",
     "text": [
      "dicionário de potência de 2: \n",
      "12: 4096\n",
      "13: 8192\n",
      "14: 16384\n",
      "15: 32768\n"
     ]
    }
   ],
   "source": [
    "ini = int(input(\"Digite o valor inicial: \"))\n",
    "fim = int(input(\"Digite o valor final: \"))\n",
    "n = ini\n",
    "n += 1\n",
    "potencia = {}\n",
    "for i in range(ini, fim+1):\n",
    "    potencia[i] = 2**i\n",
    "print(\"dicionário de potência de 2: \")\n",
    "for chave, valor in potencia.items():\n",
    "    print(f\"{chave}: {valor}\")"
   ]
  },
  {
   "cell_type": "code",
   "execution_count": 23,
   "id": "3c5522c2-8ad6-47d6-b7b8-ea8c9df959ef",
   "metadata": {},
   "outputs": [
    {
     "name": "stdin",
     "output_type": "stream",
     "text": [
      "Digite o código de barras do produto:  2033030\n",
      "Digite o nome do produto:  Carne\n",
      "Digite a quantidade desse produto que deseja comprar:  2\n",
      "Digite o preço unitário do produto:  4\n"
     ]
    },
    {
     "name": "stdout",
     "output_type": "stream",
     "text": [
      "produto: \n",
      "2033030: {'nome do produto': 'Carne', 'preço unitário': 4.0, 'total a ser pago': 8.0}\n"
     ]
    }
   ],
   "source": [
    "código = int(input(\"Digite o código de barras do produto: \"))\n",
    "nome = input(\"Digite o nome do produto: \")\n",
    "quantidade = int(input(\"Digite a quantidade desse produto que deseja comprar: \"))\n",
    "preco = float(input(\"Digite o preço unitário do produto: \"))\n",
    "total = preco*quantidade\n",
    "produto = {código: {\"nome do produto\": nome, \"preço unitário\": preco, \"total a ser pago\": total}}\n",
    "print(\"produto: \")\n",
    "for chave, valor in produto.items():\n",
    "    print(f\"{chave}: {valor}\")"
   ]
  },
  {
   "cell_type": "code",
   "execution_count": 24,
   "id": "358c314d-8657-43bb-9ed2-b82f1349ee8c",
   "metadata": {},
   "outputs": [
    {
     "data": {
      "text/plain": [
       "'Luiz Felipe Basso'"
      ]
     },
     "execution_count": 24,
     "metadata": {},
     "output_type": "execute_result"
    }
   ],
   "source": [
    "d = {\"nome\": \"Luiz Felipe Basso\", \"idade\": \"18 anos\", \"telefone\": \"48 99127-8154\", \"endereço\": \"rua Capitão Euclides de Castro, 265, Edifício Caetez\"}\n",
    "d[\"nome\"]"
   ]
  },
  {
   "cell_type": "code",
   "execution_count": 25,
   "id": "d1e2c226-0954-4cea-95d8-a98be412907a",
   "metadata": {},
   "outputs": [
    {
     "name": "stdin",
     "output_type": "stream",
     "text": [
      "Digite seu nome:  Luiz Felipe\n",
      "Informe sua idade:  18\n",
      "Informe seu telefone, com DDD:  011992837483\n",
      "Informe seu endereço:  rua blá blá blá\n"
     ]
    },
    {
     "name": "stdout",
     "output_type": "stream",
     "text": [
      "d\n",
      "nome: Luiz Felipe\n",
      "idade: 18\n",
      "telefone: 011992837483\n",
      "endereço: rua blá blá blá\n"
     ]
    }
   ],
   "source": [
    "nome = input(\"Digite seu nome: \")\n",
    "idade = int(input(\"Informe sua idade: \"))\n",
    "telefone = input(\"Informe seu telefone, com DDD: \")\n",
    "endereço = input(\"Informe seu endereço: \")\n",
    "d = {\"nome\": nome, \"idade\": idade, \"telefone\": telefone, \"endereço\": endereço}\n",
    "print(\"d\")\n",
    "for chave, valor in d.items():\n",
    "    print(f\"{chave}: {valor}\")"
   ]
  },
  {
   "cell_type": "code",
   "execution_count": null,
   "id": "be591b79-f6c4-4e83-9434-6c57bed33a70",
   "metadata": {},
   "outputs": [],
   "source": [
    "agenda = {}\n",
    "lista = []\n",
    "def montaAgenda(cpf):\n",
    "    nome = input(\"Digite seu nome: \")\n",
    "    idade = input(\"Informe sua idade: \")\n",
    "    telefone = input(\"Informe seu telefone, com DDD: \")\n",
    "    agenda={\"nome\": nome, \"idade\": idade, \"fone\": telefone, \"cpf\": cpf}\n",
    "    lista.append(agenda)\n",
    "while True:\n",
    "    cpf = int(input(\"Digite seu CPF: \"))\n",
    "    if int(cpf) == -1:\n",
    "        print(\"CPF inválido, fim do programa.\")\n",
    "        break\n",
    "    montaAgenda(cpf)\n",
    "    print(lista)\n",
    "for chave, valor in agenda.items():\n",
    "    print(f\"{chave}: {valor}\")"
   ]
  },
  {
   "cell_type": "code",
   "execution_count": null,
   "id": "e29fc85f-e22f-4c6b-b46b-43a847d73d2d",
   "metadata": {},
   "outputs": [],
   "source": [
    "adultos = {}\n",
    "lista = []\n",
    "menores = {}\n",
    "def cadastro(cpf):\n",
    "    nome = input(\"Digite seu nome: \")\n",
    "    idade = input(\"Informe a sua idade:\")\n",
    "    telefone = input(\"Informe seu telefone, com DDD: \")\n",
    "    adultos = {\"nome\": nome, \"idade\": idade, \"telefone\": telefone, \"cpf\": cpf}\n",
    "    lista.append(adultos)\n",
    "while True:\n",
    "    cpf = int(input(\"Digite seu CPF: \"))\n",
    "    if int(cpf) == -1:\n",
    "        print(\"CPF inválido, fim do programa.\")\n",
    "        break\n",
    "    cadastro(cpf)\n",
    "for info in lista:\n",
    "    for keys, values in info.items():\n",
    "        menores[keys]=values\n",
    "print(\"menores\")\n",
    "for chave, valor in menores.items():\n",
    "    print(f\"{chave}: {valor}\")"
   ]
  },
  {
   "cell_type": "code",
   "execution_count": null,
   "id": "8e9fb62f-19f7-4992-91d3-73572c43cae3",
   "metadata": {},
   "outputs": [],
   "source": [
    "nomes = {}\n",
    "backup = {}\n",
    "def adicionaNomes(nome):\n",
    "    nomes[nome]=nome\n",
    "    if len(nomes) == 5:\n",
    "        backup[nome]=nome\n",
    "        nomes.clear()\n",
    "while True:\n",
    "    nome = input(\"Entre com um nome: \")\n",
    "    if nome == \"0\":\n",
    "        print(\"Nome inválido, fim do programa.\")\n",
    "        break\n",
    "    adicionaNomes(nome)\n",
    "print(backup)\n",
    "for chave, valor in backup.items():\n",
    "    print(f\"{chave}: {valor}\")"
   ]
  },
  {
   "cell_type": "code",
   "execution_count": null,
   "id": "66c8551e-ff08-4910-9181-4944c5f842bf",
   "metadata": {},
   "outputs": [],
   "source": []
  }
 ],
 "metadata": {
  "kernelspec": {
   "display_name": "Python 3 (ipykernel)",
   "language": "python",
   "name": "python3"
  },
  "language_info": {
   "codemirror_mode": {
    "name": "ipython",
    "version": 3
   },
   "file_extension": ".py",
   "mimetype": "text/x-python",
   "name": "python",
   "nbconvert_exporter": "python",
   "pygments_lexer": "ipython3",
   "version": "3.12.2"
  }
 },
 "nbformat": 4,
 "nbformat_minor": 5
}
