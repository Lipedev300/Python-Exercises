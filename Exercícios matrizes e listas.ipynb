{
 "cells": [
  {
   "cell_type": "code",
   "execution_count": null,
   "id": "a1730b55-e1d8-4154-9a14-ab3e184e98fd",
   "metadata": {},
   "outputs": [],
   "source": [
    "def somaMatriz(m1, m2):\n",
    "    if len(m1) != len(m2) or len(m1[0]) != len(m2[0]) or len(m1) != len(m1[0]):\n",
    "        print(\"As matrizes devem ter as mesmas dimensões!\")\n",
    "        return none\n",
    "    n = len(m1)\n",
    "    resultado = [[0] *n for _ in range(n)]\n",
    "    for i in range(n):\n",
    "        for j in range(n):\n",
    "            resultado [i][j] = m1[i][j]+m2[i][j]\n",
    "    return resultado\n",
    "m1 = [[1, 2, 3],\n",
    "      [4, 5, 6],\n",
    "      [7, 8, 9]]\n",
    "m2 = [[9, 8, 7],\n",
    "      [6, 5, 4],\n",
    "      [3, 2, 1]]\n",
    "resultado = somaMatriz(m1, m2)\n",
    "if resultado:\n",
    "    print(\"A soma das matrizes é: \")\n",
    "    for linha in resultado:\n",
    "        print(linha)"
   ]
  },
  {
   "cell_type": "code",
   "execution_count": null,
   "id": "8954bf95-d689-46c8-9654-37bbf142c01a",
   "metadata": {},
   "outputs": [],
   "source": [
    "def somaMatriz(m1, m2):\n",
    "    if len(m1) != len(m2) or len(m1[0]) != len(m2[0]) or len(m1) != len(m1[0]):\n",
    "        print(\"As matrizes devem ter as mesmas dimensões!\")\n",
    "        return none\n",
    "    n = len(m1)\n",
    "    resultado = [[0] *n for _ in range(n)]\n",
    "    for i in range(n):\n",
    "        for j in range(n):\n",
    "            resultado [i][j] = m1[i][j]+m2[i][j]\n",
    "    return resultado\n",
    "m1 = [[1, 2, 3],\n",
    "      [4, 5, 6],\n",
    "      [7, 8, 9]]\n",
    "m2 = [[9, 8, 7],\n",
    "      [6, 5, 4],\n",
    "      [3, 2, 1]]\n",
    "resultado = somaMatriz(m1, m2)\n",
    "if resultado:\n",
    "    print(\"A soma das matrizes é: \")\n",
    "    for linha in resultado:\n",
    "        print(linha)"
   ]
  },
  {
   "cell_type": "code",
   "execution_count": 3,
   "id": "00287bb4-8a8d-4fa3-8f54-4eda86f72c5a",
   "metadata": {},
   "outputs": [
    {
     "name": "stdout",
     "output_type": "stream",
     "text": [
      "A soma das matrizes é: \n",
      "[[10 10 10]\n",
      " [10 10 10]\n",
      " [10 10 10]]\n"
     ]
    }
   ],
   "source": [
    "import numpy as np\n",
    "def somaMatrizes(matriz1, matriz2):\n",
    "    if matriz1.shape != matriz2.shape:\n",
    "        print(\"As matrizes devem ter as mesmas dimensões!\")\n",
    "        return None\n",
    "    resultado = matriz1+matriz2\n",
    "    return resultado\n",
    "matriz1 = np.array([[1, 2, 3],\n",
    "                    [4, 5, 6],\n",
    "                    [7, 8, 9 ]])\n",
    "matriz2 = np.array([[9, 8, 7],\n",
    "                    [6, 5, 4],\n",
    "                    [3, 2, 1 ]])\n",
    "resultado = somaMatrizes(matriz1, matriz2)\n",
    "if resultado is not None:\n",
    "    print(\"A soma das matrizes é: \")\n",
    "    print(resultado)"
   ]
  },
  {
   "cell_type": "code",
   "execution_count": 2,
   "id": "b06816a5-303c-4eba-8013-eae1e6fa22d8",
   "metadata": {},
   "outputs": [
    {
     "name": "stdout",
     "output_type": "stream",
     "text": [
      "A subtração das matrizes é: \n",
      "[-8 -6 -4]\n",
      "[-2  0  2]\n",
      "[4 6 8]\n"
     ]
    }
   ],
   "source": [
    "import numpy as np\n",
    "def menosMatriz(m1, m2):\n",
    "    if m1.shape != m2.shape:\n",
    "        print(\"As matrizes devem ter as mesmas dimensões! \")\n",
    "        return None\n",
    "    resultado = m1-m2\n",
    "    return resultado\n",
    "m1 = np.array([[1, 2, 3], [4, 5, 6], [7, 8, 9]])\n",
    "m2 = np.array([[9, 8, 7], [6, 5, 4], [3, 2, 1]])\n",
    "resultado = menosMatriz(m1, m2)\n",
    "if resultado is not None:\n",
    "    print(\"A subtração das matrizes é: \")\n",
    "    for linha in resultado:\n",
    "        print(linha)"
   ]
  },
  {
   "cell_type": "code",
   "execution_count": 12,
   "id": "cd33a3a7-a25d-4d10-a61d-11e84dce2c5f",
   "metadata": {},
   "outputs": [
    {
     "name": "stdout",
     "output_type": "stream",
     "text": [
      "A matriz transposta à original é: \n",
      "[1 4]\n",
      "[2 5]\n",
      "[3 6]\n"
     ]
    }
   ],
   "source": [
    "import numpy as np\n",
    "def calculaTransposta(m):\n",
    "    resultado = m.transpose()\n",
    "    return resultado\n",
    "m = np.array([[1, 2, 3], [4, 5, 6]])\n",
    "resultado = calculaTransposta(m)\n",
    "if resultado is not None:\n",
    "    print(\"A matriz transposta à original é: \")\n",
    "    for linha in resultado:\n",
    "        print(linha)"
   ]
  },
  {
   "cell_type": "code",
   "execution_count": 1,
   "id": "80432dda-2d51-4eaa-af3a-bd96bd36a563",
   "metadata": {},
   "outputs": [
    {
     "name": "stdout",
     "output_type": "stream",
     "text": [
      "O resultado da multiplicação dessas duas matrizes é: \n",
      "[19 22]\n",
      "[43 50]\n"
     ]
    }
   ],
   "source": [
    "import numpy as np\n",
    "def multiplicaMatriz(a, b):\n",
    "    resultado = np.dot(a, b)\n",
    "    return resultado\n",
    "a = np.array([[1, 2], [3, 4]])\n",
    "b = np.array([[5, 6], [7, 8]])\n",
    "resultado = multiplicaMatriz(a, b)\n",
    "print(\"O resultado da multiplicação dessas duas matrizes é: \")\n",
    "for linha in resultado:\n",
    "    print(linha)"
   ]
  },
  {
   "cell_type": "code",
   "execution_count": 2,
   "id": "f05a5c65-714c-42a5-a779-9104acd09eb5",
   "metadata": {},
   "outputs": [
    {
     "name": "stdout",
     "output_type": "stream",
     "text": [
      "Temos 88posições não nulas nessa matriz\n"
     ]
    }
   ],
   "source": [
    "import numpy as np\n",
    "def naoNulo(m):\n",
    "    resultado = print(\"Temos \" +str(desanulado) + \"posições não nulas nessa matriz\")\n",
    "    return resultado\n",
    "m = np.array([[1, 2, 3, 4, 5, 6, 7, 8, 9, 10], [0, 2, 4, 6, 8, 10, 12, 14, 16, 18], [0, 0, 0, 0, 0, 0, 0, 0, 0, 0], [4, 4, 4, 4, 4, 4, 4, 4, 4, 4], [1, 3, 5, 7, 9, 11, 13, 15, 17, 19], [0, -2, -4, -6, -8, -10, -12, -14, -16, -18], [1, 1, 1, 1, 1, 1, 1, 1, 1, 1], [2, 4, 6, 8, 10, 12, 14, 16, 18, 20], [10, 10, 10, 10, 10, 10, 10, 10, 10, 10], [-1, -3, -5, -7, -9, -11, -13, -15, -17, -19]])\n",
    "desanulado=0\n",
    "for i in range(len(m)):\n",
    "    for j in range(len(m[i])):\n",
    "        if (m[i][j]) != 0:\n",
    "            desanulado+=1\n",
    "resultado = naoNulo(m)"
   ]
  },
  {
   "cell_type": "code",
   "execution_count": null,
   "id": "09a69ad7-1e5c-409f-a11a-1c127d4fcc28",
   "metadata": {},
   "outputs": [],
   "source": [
    "def main():\n",
    "    num_corredores = 6\n",
    "    num_voltas = 10\n",
    "    tempos = []\n",
    "    nomes = []\n",
    "    for i in range(num_corredores):\n",
    "        nome = input(f\"Digite o nome do corredor {i+1}: \")\n",
    "        nomes.append(nome)\n",
    "        voltas = []\n",
    "        for j in range(num_voltas):\n",
    "            tempo = float(input(f\"Digite o tempo da volta {j+1} para o corredor {nome} (em segundos): \"))\n",
    "            voltas.append(tempo)\n",
    "        tempos.append(voltas)\n",
    "    melhor_tempo"
   ]
  },
  {
   "cell_type": "code",
   "execution_count": 5,
   "id": "800992d0-14f4-4de4-9975-fad1f4b94309",
   "metadata": {},
   "outputs": [
    {
     "name": "stdout",
     "output_type": "stream",
     "text": [
      "[1 1 1]\n",
      "[2 2 2]\n",
      "[3 3 3]\n"
     ]
    }
   ],
   "source": [
    "import numpy as np\n",
    "m = np.array([[1, 1, 1], [2, 2, 2], [3, 3, 3]])\n",
    "for linha in m:\n",
    "    print(linha)"
   ]
  }
 ],
 "metadata": {
  "kernelspec": {
   "display_name": "Python 3 (ipykernel)",
   "language": "python",
   "name": "python3"
  },
  "language_info": {
   "codemirror_mode": {
    "name": "ipython",
    "version": 3
   },
   "file_extension": ".py",
   "mimetype": "text/x-python",
   "name": "python",
   "nbconvert_exporter": "python",
   "pygments_lexer": "ipython3",
   "version": "3.12.2"
  }
 },
 "nbformat": 4,
 "nbformat_minor": 5
}
