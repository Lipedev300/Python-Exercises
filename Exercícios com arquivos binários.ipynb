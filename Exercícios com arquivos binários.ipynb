{
 "cells": [
  {
   "cell_type": "code",
   "execution_count": 14,
   "id": "2eac56d7-2ff0-47ee-915c-2a80a07da608",
   "metadata": {},
   "outputs": [
    {
     "name": "stdout",
     "output_type": "stream",
     "text": [
      "Entre com o número de dados que deseja armazenar:  4\n",
      "Entre com o número 0:  3.4\n",
      "Entre com o número 1:  5.6\n",
      "Entre com o número 2:  9.3\n",
      "Entre com o número 3:  3.6\n"
     ]
    },
    {
     "name": "stdout",
     "output_type": "stream",
     "text": [
      "A média desses números é 0.90\n"
     ]
    }
   ],
   "source": [
    "import pickle\n",
    "lista = []\n",
    "def calculaMedia(lista):\n",
    "    n = int(input(\"Entre com o número de dados que deseja armazenar: \"))\n",
    "    for i in range(n):\n",
    "        dado = float(input(\"Entre com o número \" +str(i) + \": \"))\n",
    "    lista.append(dado)\n",
    "    soma = 0\n",
    "    for i in range(len(lista)):\n",
    "        soma += lista[i]\n",
    "    media = soma/n\n",
    "    print(f\"A média desses números é {media:.2f}\")\n",
    "calculaMedia(lista)\n",
    "\n",
    "with open(\"numeros.bin\", \"wb\") as arquivo:\n",
    "    pickle.dump(lista, arquivo)"
   ]
  },
  {
   "cell_type": "code",
   "execution_count": 17,
   "id": "86912c48-6e60-4de0-b577-c2862a946093",
   "metadata": {},
   "outputs": [],
   "source": [
    "import pickle\n",
    "with open(\"inteiros.bin\", \"wb\") as arquivo:\n",
    "    lista = [1, 3, 5, -3, -6, -18, 34, 38, 10, -14, -17, -20, 30]\n",
    "    pickle.dump(lista, arquivo)\n",
    "\n",
    "lista2 = []\n",
    "for i in lista:\n",
    "    if i < 0:\n",
    "        i *= -1\n",
    "    lista2.append(i)\n",
    "\n",
    "with open(\"inteiros2.bin\", \"wb\") as file:\n",
    "    pickle.dump(lista2, file)"
   ]
  },
  {
   "cell_type": "code",
   "execution_count": 19,
   "id": "ad470ff9-3279-4de2-913c-9b582854758e",
   "metadata": {},
   "outputs": [
    {
     "name": "stdout",
     "output_type": "stream",
     "text": [
      "[1, 2, 3, 4, 5, 6, 7, 8, 9, 10]\n"
     ]
    }
   ],
   "source": [
    "import pickle\n",
    "with open(\"decimal.bin\", \"wb\") as file:\n",
    "    lista = []\n",
    "    for i in range(1, 11):\n",
    "        lista.append(i)\n",
    "    pickle.dump(lista, file)"
   ]
  },
  {
   "cell_type": "code",
   "execution_count": null,
   "id": "1408bf19",
   "metadata": {},
   "outputs": [],
   "source": [
    "\"\"\"\n",
    "Este jupyter abrangeu conceitos de arquivos binários em python, especialmente o uso da biblioteca Pickle para manipulação de arquivos binários.\n",
    " Porém, também temos envolvido prática de listas e loops\"\"\""
   ]
  }
 ],
 "metadata": {
  "kernelspec": {
   "display_name": "Python 3 (ipykernel)",
   "language": "python",
   "name": "python3"
  },
  "language_info": {
   "codemirror_mode": {
    "name": "ipython",
    "version": 3
   },
   "file_extension": ".py",
   "mimetype": "text/x-python",
   "name": "python",
   "nbconvert_exporter": "python",
   "pygments_lexer": "ipython3",
   "version": "3.12.2"
  }
 },
 "nbformat": 4,
 "nbformat_minor": 5
}
