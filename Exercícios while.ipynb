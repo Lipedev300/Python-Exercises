{
 "cells": [
  {
   "cell_type": "code",
   "execution_count": null,
   "id": "88d6e384-a807-40fa-beb6-fa32d85b002a",
   "metadata": {},
   "outputs": [],
   "source": [
    "numero = 1\n",
    "while numero <= 100:\n",
    "    print(numero)\n",
    "    numero +=1"
   ]
  },
  {
   "cell_type": "code",
   "execution_count": null,
   "id": "c08accfd-4867-4513-b5cc-e5860338eb27",
   "metadata": {},
   "outputs": [],
   "source": [
    "numero = 50\n",
    "while numero <= 100:\n",
    "    print(numero)\n",
    "    numero = numero+1"
   ]
  },
  {
   "cell_type": "code",
   "execution_count": null,
   "id": "0b438843-e8bb-4198-be84-f38132c766e3",
   "metadata": {},
   "outputs": [],
   "source": [
    "numero = 10\n",
    "while numero >= 1:\n",
    "    print(numero)\n",
    "    numero = numero-1\n",
    "print(\"fogo!\")"
   ]
  },
  {
   "cell_type": "code",
   "execution_count": null,
   "id": "62571ab5-d20c-4f66-9372-dfe1ebd9d0b4",
   "metadata": {},
   "outputs": [],
   "source": [
    "n = int(input(\"Digite um número: \"))\n",
    "numero = 1\n",
    "while numero <= n:\n",
    "    print(numero)\n",
    "    numero = numero+2"
   ]
  },
  {
   "cell_type": "code",
   "execution_count": null,
   "id": "e8d1fee8-bc77-47a1-b3d0-1bcec17c70e7",
   "metadata": {},
   "outputs": [],
   "source": [
    "numero = 0\n",
    "while numero <= 3*10:\n",
    "    print(numero)\n",
    "    numero = numero+3"
   ]
  },
  {
   "cell_type": "code",
   "execution_count": null,
   "id": "cbcc3f44-17de-418e-b3ae-a8130e4e8eac",
   "metadata": {},
   "outputs": [],
   "source": [
    "numero = int(input(\"Digite um número: \"))\n",
    "n = 1\n",
    "while n <= 10:\n",
    "    result = numero * n\n",
    "    print(numero, \"*\", n, \"=\", result)\n",
    "    n = n+1"
   ]
  },
  {
   "cell_type": "code",
   "execution_count": 1,
   "id": "747d3c16-d4bc-4c36-8a84-b980488fe475",
   "metadata": {},
   "outputs": [
    {
     "name": "stdout",
     "output_type": "stream",
     "text": [
      "2 * 9 = 18\n",
      "2 * 10 = 20\n",
      "2 * 11 = 22\n",
      "2 * 12 = 24\n",
      "2 * 13 = 26\n",
      "2 * 14 = 28\n",
      "2 * 15 = 30\n",
      "2 * 16 = 32\n",
      "2 * 17 = 34\n",
      "2 * 18 = 36\n",
      "2 * 19 = 38\n",
      "2 * 20 = 40\n"
     ]
    }
   ],
   "source": [
    "numero = int(input(\"Digite um número: \"))\n",
    "ini = int(input(\"Indique qual número deseja que seja o início das multiplicações: \"))\n",
    "fim = int(input(\"Indique qual número deseja que seja o último a ser multiplicado: \"))\n",
    "n = ini\n",
    "while n >= ini and n <= fim:\n",
    "    result = numero * n\n",
    "    print(numero, \"*\", n, \"=\", result)\n",
    "    n = n+1"
   ]
  },
  {
   "cell_type": "code",
   "execution_count": null,
   "id": "4ec12513-ee68-4660-b6ea-77fb368019f0",
   "metadata": {},
   "outputs": [],
   "source": [
    "a = int(input(\"Digite um número: \"))\n",
    "b = int(input(\"Digite outro número: \"))\n",
    "x = 1\n",
    "result = 0\n",
    "while x <= b:\n",
    "    result = result+a\n",
    "    x = x+1\n",
    "print(a, x, b, \"=\", result)"
   ]
  },
  {
   "cell_type": "code",
   "execution_count": null,
   "id": "e7f0865c-aef0-4208-bcff-95cfc9c882e9",
   "metadata": {},
   "outputs": [],
   "source": [
    "deposit = int(input(\"Informe o valor inicial depositado na sua poupança: \"))\n",
    "tax = int(input(\"Informe a taxa de juros: \"))\n",
    "rend = deposit + (deposit * tax/100)\n",
    "t = 1\n",
    "while t <= 24:\n",
    "    montante = rend * t\n",
    "    print(\"Seu montante após esses 24 meses é: \", montante)\n",
    "    t = t+1"
   ]
  }
 ],
 "metadata": {
  "kernelspec": {
   "display_name": "Python 3",
   "language": "python",
   "name": "python3"
  },
  "language_info": {
   "codemirror_mode": {
    "name": "ipython",
    "version": 3
   },
   "file_extension": ".py",
   "mimetype": "text/x-python",
   "name": "python",
   "nbconvert_exporter": "python",
   "pygments_lexer": "ipython3",
   "version": "3.12.2"
  }
 },
 "nbformat": 4,
 "nbformat_minor": 5
}
