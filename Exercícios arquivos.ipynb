{
 "cells": [
  {
   "cell_type": "code",
   "execution_count": null,
   "id": "a2d443c6-d34c-403a-8d2a-6e6c2090712d",
   "metadata": {},
   "outputs": [],
   "source": [
    "try:\n",
    "    arquivo = open(\"Activity.txt\", \"r\")\n",
    "    while True:\n",
    "        s = arquivo.read()\n",
    "        print(s, end=\"\")\n",
    "        if s == \"\":\n",
    "            break\n",
    "    arquivo.close()\n",
    "except:\n",
    "    print(\"Não foi possível ler o conteúdo do arquivo, contrate um especialista para resolver seu problema.\")"
   ]
  },
  {
   "cell_type": "code",
   "execution_count": null,
   "id": "4d97fe3c-8903-470d-b338-e5c587596675",
   "metadata": {},
   "outputs": [],
   "source": [
    "try:\n",
    "    arquivo = open(\"Activity.txt\", \"r\")\n",
    "    s = arquivo.readlines()\n",
    "    c = len(s)\n",
    "    print(\"Nesse arquivo, existem \", c, \"linhas\")\n",
    "    arquivo.close()\n",
    "except:\n",
    "        print(\"Não foi possível ler o arquivo.\")"
   ]
  },
  {
   "cell_type": "code",
   "execution_count": null,
   "id": "5aa97603-bef0-46da-9ded-42b7c682d2d6",
   "metadata": {},
   "outputs": [],
   "source": [
    "with open(\"activity.txt\", \"r\") as arquivo:\n",
    "    s = arquivo.read()\n",
    "    with open(\"copy.txt\", \"w\") as file:\n",
    "        file.write(s)"
   ]
  },
  {
   "cell_type": "code",
   "execution_count": 4,
   "id": "6e3d6e24-100a-4d70-921a-47e15e4996af",
   "metadata": {},
   "outputs": [
    {
     "ename": "SyntaxError",
     "evalue": "unexpected character after line continuation character (2973938386.py, line 6)",
     "output_type": "error",
     "traceback": [
      "\u001b[1;36m  Cell \u001b[1;32mIn[4], line 6\u001b[1;36m\u001b[0m\n\u001b[1;33m    file.write(c)\\n\u001b[0m\n\u001b[1;37m                  ^\u001b[0m\n\u001b[1;31mSyntaxError\u001b[0m\u001b[1;31m:\u001b[0m unexpected character after line continuation character\n"
     ]
    }
   ],
   "source": [
    "with open(\"activity.txt\", \"r\") as arquivo:\n",
    "    s = arquivo.read()\n",
    "c = s.lower()\n",
    "        \n",
    "with open(\"copy.txt\", \"a\") as file:\n",
    "    file.write(c)"
   ]
  },
  {
   "cell_type": "code",
   "execution_count": null,
   "id": "fb4f7863-e231-4bd7-996a-1308ae1cf77e",
   "metadata": {},
   "outputs": [],
   "source": [
    "try:\n",
    "    arquivo = open(\"activity.txt\", \"r\")\n",
    "except:\n",
    "    print(\"Não foi possível ler o arquivo.\")\n",
    "s = arquivo.read()\n",
    "palavras = s.split()\n",
    "contagem = len(palavras)\n",
    "arquivo.close()\n",
    "print(\"Nesse arquivo, existem \", contagem, \"palavras\")"
   ]
  },
  {
   "cell_type": "code",
   "execution_count": null,
   "id": "c8d8027c-7bd7-4296-be6d-7d430f0ed69a",
   "metadata": {},
   "outputs": [],
   "source": [
    "with open(\"nomes.txt\", \"r\") as arquivo:\n",
    "    s = arquivo.read()\n",
    "t = s.split()\n",
    "c = []\n",
    "for nome in t:\n",
    "    c.append(nome.rstrip(\",\"))\n",
    "c = sorted(c)\n",
    "name = \"\"\n",
    "for i, nome in enumerate(c):\n",
    "    if i+1 == len(c):\n",
    "        name += nome\n",
    "    else:\n",
    "        name += (nome+\", \")\n",
    "\n",
    "with open(\"nomes2.txt\", \"w\") as file:\n",
    "    file.write(name)"
   ]
  }
 ],
 "metadata": {
  "kernelspec": {
   "display_name": "Python 3 (ipykernel)",
   "language": "python",
   "name": "python3"
  },
  "language_info": {
   "codemirror_mode": {
    "name": "ipython",
    "version": 3
   },
   "file_extension": ".py",
   "mimetype": "text/x-python",
   "name": "python",
   "nbconvert_exporter": "python",
   "pygments_lexer": "ipython3",
   "version": "3.12.2"
  }
 },
 "nbformat": 4,
 "nbformat_minor": 5
}
