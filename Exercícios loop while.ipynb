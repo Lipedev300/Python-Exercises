{
 "cells": [
  {
   "cell_type": "code",
   "execution_count": 2,
   "metadata": {},
   "outputs": [
    {
     "name": "stdout",
     "output_type": "stream",
     "text": [
      "O resultado da multiplicação de  3 vezes  4 resulta em  12\n"
     ]
    }
   ],
   "source": [
    "numero1 = int(input(\"Digite o primeiro número que será multiplicado: \"))\n",
    "numero2 = int(input(\"Digite o segundo número que será multiplicado: \"))\n",
    "contador = 1\n",
    "resultado = 0\n",
    "\n",
    "while (contador <= numero2):\n",
    "    resultado += numero1\n",
    "    contador +=1\n",
    "print(\"O resultado da multiplicação de \", numero1, \"vezes \", numero2, \"resulta em \", resultado)"
   ]
  },
  {
   "cell_type": "code",
   "execution_count": 3,
   "metadata": {},
   "outputs": [
    {
     "name": "stdout",
     "output_type": "stream",
     "text": [
      "A divisão inteira do número  15 pelo número  5 resulta em  3 e possui resto  0\n"
     ]
    }
   ],
   "source": [
    "dividendo = int(input(\"Digite o primeiro número que será dividido, no caso o dividendo: \"))\n",
    "divisor = int(input(\"Digite o segundo número a ser dividido, no caso o divisor: \"))\n",
    "resultado = 0\n",
    "resto = dividendo\n",
    "\n",
    "while (resto >= divisor):\n",
    "    resto -= divisor\n",
    "    resultado +=1\n",
    "print(\"A divisão inteira do número \", dividendo, \"pelo número \", divisor, \"resulta em \", resultado, \"e possui resto \", resto)"
   ]
  },
  {
   "cell_type": "code",
   "execution_count": 1,
   "metadata": {},
   "outputs": [
    {
     "name": "stdout",
     "output_type": "stream",
     "text": [
      "1\n",
      "2\n",
      "3\n",
      "4\n",
      "5\n",
      "6\n",
      "7\n",
      "8\n",
      "9\n",
      "10\n",
      "11\n",
      "12\n",
      "13\n",
      "14\n",
      "15\n",
      "16\n",
      "17\n",
      "18\n",
      "19\n",
      "20\n",
      "21\n",
      "22\n",
      "23\n",
      "24\n",
      "25\n",
      "26\n",
      "27\n",
      "28\n",
      "29\n",
      "30\n",
      "31\n",
      "32\n",
      "33\n",
      "34\n",
      "35\n",
      "36\n",
      "37\n",
      "38\n",
      "39\n",
      "40\n",
      "41\n",
      "42\n",
      "43\n",
      "44\n",
      "45\n",
      "46\n",
      "47\n",
      "48\n",
      "49\n",
      "50\n",
      "51\n",
      "52\n",
      "53\n",
      "54\n",
      "55\n",
      "56\n",
      "57\n",
      "58\n",
      "59\n",
      "60\n",
      "61\n",
      "62\n",
      "63\n",
      "64\n",
      "65\n",
      "66\n",
      "67\n",
      "68\n",
      "69\n",
      "70\n",
      "71\n",
      "72\n",
      "73\n",
      "74\n",
      "75\n",
      "76\n",
      "77\n",
      "78\n",
      "79\n",
      "80\n",
      "81\n",
      "82\n",
      "83\n",
      "84\n",
      "85\n",
      "86\n",
      "87\n",
      "88\n",
      "89\n",
      "90\n",
      "91\n",
      "92\n",
      "93\n",
      "94\n",
      "95\n",
      "96\n",
      "97\n",
      "98\n",
      "99\n",
      "100\n"
     ]
    }
   ],
   "source": [
    "numero = 1\n",
    "while (numero <= 100):\n",
    "    print(numero)\n",
    "    numero +=1"
   ]
  },
  {
   "cell_type": "code",
   "execution_count": null,
   "metadata": {},
   "outputs": [],
   "source": [
    "numero = 50\n",
    "while (numero <= 100):\n",
    "    print(numero)\n",
    "    numero += 1"
   ]
  },
  {
   "cell_type": "code",
   "execution_count": null,
   "metadata": {},
   "outputs": [],
   "source": [
    "numero = 1\n",
    "while (numero <= 100):\n",
    "    print(numero)\n",
    "    numero +=1"
   ]
  },
  {
   "cell_type": "code",
   "execution_count": null,
   "metadata": {},
   "outputs": [],
   "source": [
    "numero = 10\n",
    "print(\"Iniciando sequência de lançamento! Estamos prontos para lançar em t -10 segundos.\")\n",
    "while (numero >= 0):\n",
    "    print(numero)\n",
    "    numero -=1\n",
    "print(\"Fogo!\")"
   ]
  },
  {
   "cell_type": "code",
   "execution_count": null,
   "metadata": {},
   "outputs": [],
   "source": [
    "number = int(input(\"Digite um número: \"))\n",
    "\n",
    "numero = 1\n",
    "while (numero <= number):\n",
    "    if (numero %2 !=0):\n",
    "        print(numero)\n",
    "        numero +=1"
   ]
  },
  {
   "cell_type": "code",
   "execution_count": null,
   "metadata": {},
   "outputs": [],
   "source": [
    "numero = 3\n",
    "\n",
    "multiplicador = 1\n",
    "while (multiplicador <= 10):\n",
    "    resultado = numero * multiplicador\n",
    "    multiplicador +=1\n",
    "    print(resultado)   "
   ]
  },
  {
   "cell_type": "code",
   "execution_count": null,
   "metadata": {},
   "outputs": [],
   "source": [
    "numero = int(input(\"Digite um número: \"))\n",
    "\n",
    "multiplicador = 1\n",
    "while (multiplicador <=10):\n",
    "    resultado = numero * multiplicador\n",
    "    print(numero, \"vezes\", multiplicador, \" =\", resultado)\n",
    "    multiplicador +=1   "
   ]
  },
  {
   "cell_type": "code",
   "execution_count": null,
   "metadata": {},
   "outputs": [],
   "source": [
    "numero = int(input(\"Digite um número: \"))\n",
    "inicio = int(input(\"Indique o início da tabuada.\"))\n",
    "fim = int(input(\"Por fim, indique o fim da tabuada.\"))\n",
    "\n",
    "multiplicador = inicio\n",
    "while (multiplicador <= fim):\n",
    "    resultado = numero * multiplicador\n",
    "    print(numero, \"vezes\", multiplicador, \"=\", resultado)\n",
    "    multiplicador +=1"
   ]
  }
 ],
 "metadata": {
  "kernelspec": {
   "display_name": "Python 3",
   "language": "python",
   "name": "python3"
  },
  "language_info": {
   "codemirror_mode": {
    "name": "ipython",
    "version": 3
   },
   "file_extension": ".py",
   "mimetype": "text/x-python",
   "name": "python",
   "nbconvert_exporter": "python",
   "pygments_lexer": "ipython3",
   "version": "3.12.2"
  }
 },
 "nbformat": 4,
 "nbformat_minor": 2
}
