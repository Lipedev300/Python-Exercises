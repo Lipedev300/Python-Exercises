{
 "cells": [
  {
   "cell_type": "code",
   "execution_count": 1,
   "id": "be4e066a-032b-43af-9318-72bf76430c83",
   "metadata": {},
   "outputs": [
    {
     "name": "stdout",
     "output_type": "stream",
     "text": [
      "53\n"
     ]
    }
   ],
   "source": [
    "print(int(53.785))"
   ]
  },
  {
   "cell_type": "code",
   "execution_count": 2,
   "id": "8053671b-8ea8-42af-b87f-30123e57073f",
   "metadata": {},
   "outputs": [
    {
     "name": "stdout",
     "output_type": "stream",
     "text": [
      "19\n"
     ]
    }
   ],
   "source": [
    "dia = \"sexta-feira\"\n",
    "dia = 32.5\n",
    "dia = 19\n",
    "print(dia)"
   ]
  },
  {
   "cell_type": "code",
   "execution_count": 3,
   "id": "de1b4ac9-b4e4-49ac-a717-53f42d842f8b",
   "metadata": {},
   "outputs": [
    {
     "name": "stdout",
     "output_type": "stream",
     "text": [
      "4.5 4 2\n"
     ]
    }
   ],
   "source": [
    "print(18 / 4, 18 // 4, 18 % 4)"
   ]
  },
  {
   "cell_type": "code",
   "execution_count": 4,
   "id": "d721721b-abea-4cbf-94b9-794f46450264",
   "metadata": {},
   "outputs": [
    {
     "name": "stdin",
     "output_type": "stream",
     "text": [
      "Por favor, digite a sua idade:  18\n"
     ]
    },
    {
     "name": "stdout",
     "output_type": "stream",
     "text": [
      "<class 'str'>\n"
     ]
    }
   ],
   "source": [
    "idade = input(\"Por favor, digite a sua idade: \")\n",
    "print(type(idade))"
   ]
  },
  {
   "cell_type": "code",
   "execution_count": 5,
   "id": "b7ffc6aa-bd69-4d0b-b9da-fdad129beccf",
   "metadata": {},
   "outputs": [
    {
     "data": {
      "text/plain": [
       "14"
      ]
     },
     "execution_count": 5,
     "metadata": {},
     "output_type": "execute_result"
    }
   ],
   "source": [
    "16 - 2 * 5 // 3 + 1"
   ]
  },
  {
   "cell_type": "code",
   "execution_count": 7,
   "id": "9f9d6d89-f687-4ae6-a075-e80bae2f3a48",
   "metadata": {},
   "outputs": [
    {
     "name": "stdout",
     "output_type": "stream",
     "text": [
      "O valor de x é:  22\n",
      "O valor de y é:  15\n"
     ]
    }
   ],
   "source": [
    "x = 15\n",
    "y = x\n",
    "x = 22\n",
    "print(\"O valor de x é: \", x)\n",
    "print(\"O valor de y é: \", y)"
   ]
  },
  {
   "cell_type": "code",
   "execution_count": 8,
   "id": "fd734239-e48e-467c-9fbf-bb0273151e0e",
   "metadata": {},
   "outputs": [
    {
     "ename": "NameError",
     "evalue": "name 'a' is not defined",
     "output_type": "error",
     "traceback": [
      "\u001b[1;31m---------------------------------------------------------------------------\u001b[0m",
      "\u001b[1;31mNameError\u001b[0m                                 Traceback (most recent call last)",
      "Cell \u001b[1;32mIn[8], line 5\u001b[0m\n\u001b[0;32m      3\u001b[0m b \u001b[38;5;241m=\u001b[39m \u001b[38;5;241m4\u001b[39m\n\u001b[0;32m      4\u001b[0m d \u001b[38;5;241m=\u001b[39m c \u001b[38;5;241m+\u001b[39m b\n\u001b[1;32m----> 5\u001b[0m a \u001b[38;5;241m=\u001b[39m \u001b[43ma\u001b[49m \u001b[38;5;241m+\u001b[39m \u001b[38;5;241m1\u001b[39m\n\u001b[0;32m      6\u001b[0m \u001b[38;5;28mprint\u001b[39m(a)\n",
      "\u001b[1;31mNameError\u001b[0m: name 'a' is not defined"
     ]
    }
   ],
   "source": [
    "d = 3\n",
    "c = 2\n",
    "b = 4\n",
    "d = c + b\n",
    "a = a + 1\n",
    "print(a)"
   ]
  },
  {
   "cell_type": "code",
   "execution_count": 9,
   "id": "ec32157d-63cb-45b5-b25e-956a33aeb8df",
   "metadata": {},
   "outputs": [
    {
     "name": "stdout",
     "output_type": "stream",
     "text": [
      "Falso\n"
     ]
    }
   ],
   "source": [
    "if (4 + 5 == 10):\n",
    "    print(\"Verdadeiro\")\n",
    "else:\n",
    "    print(\"Falso\")"
   ]
  },
  {
   "cell_type": "code",
   "execution_count": 10,
   "id": "2852eef5-26da-4cf3-bf96-50d622f99197",
   "metadata": {},
   "outputs": [
    {
     "name": "stdout",
     "output_type": "stream",
     "text": [
      "Falso\n",
      "Verdadeiro\n"
     ]
    }
   ],
   "source": [
    "if (4 + 5 == 10):\n",
    "    print(\"Verdadeiro\")\n",
    "else:\n",
    "    print(\"Falso\")\n",
    "    print(\"Verdadeiro\")"
   ]
  },
  {
   "cell_type": "code",
   "execution_count": 13,
   "id": "e96fc814-887b-4382-a787-834c2a0c5769",
   "metadata": {},
   "outputs": [
    {
     "name": "stdout",
     "output_type": "stream",
     "text": [
      "c\n"
     ]
    }
   ],
   "source": [
    "if 3 < 5 and 3 < 2:\n",
    "    print(\"a\")\n",
    "elif 5 < 3 and 5 < 2:\n",
    "    print(\"b\")\n",
    "else:\n",
    "    print(\"c\")"
   ]
  },
  {
   "cell_type": "code",
   "execution_count": 14,
   "id": "ab13c84d-7681-47ea-ac9f-2f2822606abc",
   "metadata": {},
   "outputs": [
    {
     "name": "stdout",
     "output_type": "stream",
     "text": [
      "IlovePython\n"
     ]
    }
   ],
   "source": [
    "a = \"I\"\n",
    "b = \"love\"\n",
    "c = \"Python\"\n",
    "print(a + b + c)"
   ]
  },
  {
   "cell_type": "code",
   "execution_count": 17,
   "id": "82bf7881-eba7-4990-93df-2dcdf923bd8f",
   "metadata": {},
   "outputs": [
    {
     "name": "stdout",
     "output_type": "stream",
     "text": [
      "python!!!\n"
     ]
    }
   ],
   "source": [
    "a = \"python\"\n",
    "b = \"!\"\n",
    "print(a + b * 3)"
   ]
  },
  {
   "cell_type": "code",
   "execution_count": 69,
   "id": "574beb8a-5f64-490a-b463-aab3155070fc",
   "metadata": {},
   "outputs": [
    {
     "name": "stdin",
     "output_type": "stream",
     "text": [
      "Digite um número:  8\n",
      "Digite outro número:  14\n",
      "Digite um último número:  3\n"
     ]
    },
    {
     "name": "stdout",
     "output_type": "stream",
     "text": [
      "O maior desses três números é:  14\n"
     ]
    }
   ],
   "source": [
    "a = int(input(\"Digite um número: \"))\n",
    "b = int(input(\"Digite outro número: \"))\n",
    "c = int(input(\"Digite um último número: \"))\n",
    "maior = a\n",
    "if b > a and b > c:\n",
    "    maior = b\n",
    "if c > a and c > b:\n",
    "    maior = c\n",
    "print(\"O maior desses três números é: \", maior)"
   ]
  },
  {
   "cell_type": "code",
   "execution_count": 93,
   "id": "7c3b51a8-eeb8-4e03-b390-a2851be3bf4f",
   "metadata": {},
   "outputs": [
    {
     "ename": "SyntaxError",
     "evalue": "invalid syntax (4237316797.py, line 5)",
     "output_type": "error",
     "traceback": [
      "\u001b[1;36m  Cell \u001b[1;32mIn[93], line 5\u001b[1;36m\u001b[0m\n\u001b[1;33m    >>> print(c, end=\"\") >>> print(b, end=\"\") >>> print(a, end=\"\")\u001b[0m\n\u001b[1;37m    ^\u001b[0m\n\u001b[1;31mSyntaxError\u001b[0m\u001b[1;31m:\u001b[0m invalid syntax\n"
     ]
    }
   ],
   "source": [
    "a = int(input(\"Digite um número: \"))\n",
    "b = int(input(\"Digite outro número: \"))\n",
    "c = int(input(\"Digite um último número: \"))\n",
    "if a < b and b < c:\n",
    "print(c, end=\"\") print(b, end=\"\") print(a, end=\"\")"
   ]
  }
 ],
 "metadata": {
  "kernelspec": {
   "display_name": "Python 3 (ipykernel)",
   "language": "python",
   "name": "python3"
  },
  "language_info": {
   "codemirror_mode": {
    "name": "ipython",
    "version": 3
   },
   "file_extension": ".py",
   "mimetype": "text/x-python",
   "name": "python",
   "nbconvert_exporter": "python",
   "pygments_lexer": "ipython3",
   "version": "3.12.2"
  }
 },
 "nbformat": 4,
 "nbformat_minor": 5
}
