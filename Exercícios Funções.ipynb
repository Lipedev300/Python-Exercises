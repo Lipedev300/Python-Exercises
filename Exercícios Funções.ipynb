{
 "cells": [
  {
   "cell_type": "code",
   "execution_count": null,
   "id": "bfe0c4de-ce08-400b-af73-dd7e516aabed",
   "metadata": {},
   "outputs": [],
   "source": [
    "def numeroInverso(num):\n",
    "    resultado = str(num)\n",
    "    print(resultado [::-1])\n",
    "i = numeroInverso(435)"
   ]
  },
  {
   "cell_type": "code",
   "execution_count": null,
   "id": "17142298-e476-45f0-8212-f5ecbdb25451",
   "metadata": {},
   "outputs": [],
   "source": [
    "def numeroInverso(num):\n",
    "    resultado = str(num)\n",
    "    print(resultado [::-1])\n",
    "i = numeroInverso(435)"
   ]
  },
  {
   "cell_type": "code",
   "execution_count": null,
   "id": "867dcf78-fac3-462f-a6a6-3cb648a94e56",
   "metadata": {},
   "outputs": [],
   "source": [
    "def digitosNumero(num):\n",
    "    resultado = str(num)\n",
    "    print(len(resultado))\n",
    "digitosNumero(345)"
   ]
  },
  {
   "cell_type": "code",
   "execution_count": null,
   "id": "5fdffff3-96db-400f-9366-6e41c99ffa1d",
   "metadata": {},
   "outputs": [],
   "source": [
    "def calculaPotencia(a, b):\n",
    "    if b == 0:\n",
    "        return 1\n",
    "    resultado = a\n",
    "    for _ in range(1, b):\n",
    "        resultado *= a\n",
    "    return resultado\n",
    "calculaPotencia(3, 2)"
   ]
  },
  {
   "cell_type": "code",
   "execution_count": null,
   "id": "318f3701-06cf-4a78-9d47-ba28e7fa6421",
   "metadata": {},
   "outputs": [],
   "source": [
    "def repeteNumero(n):\n",
    "    for i in range(n):\n",
    "        i += 1\n",
    "        print(str(i)*i)\n",
    "        n = int(input(\"Digite o número final da soma e repetição: \"))\n",
    "s = repeteNumero(n)\n",
    "print(s)"
   ]
  },
  {
   "cell_type": "code",
   "execution_count": null,
   "id": "e1af0fd8-a79b-4185-b228-262c6a612c1e",
   "metadata": {},
   "outputs": [],
   "source": [
    "def somaDeNumeros(n):\n",
    "    n = int(input(\"Digite um número: \"))\n",
    "    s = 1\n",
    "    for i in range(1, n):\n",
    "        while s <= n:\n",
    "            s = s + 1 [i]\n",
    "    return s\n",
    "    print(str(s)*s)\n",
    "somaDeNumeros(n=6)"
   ]
  },
  {
   "cell_type": "code",
   "execution_count": null,
   "id": "32daa06b-b1d9-4bdd-9470-4fbc1b5fe165",
   "metadata": {},
   "outputs": [],
   "source": [
    "def somaDeNumeros(a, b, c):\n",
    "    resultado = a +b+c\n",
    "    return resultado\n",
    "somaDeNumeros(2, 3, 4)"
   ]
  },
  {
   "cell_type": "code",
   "execution_count": null,
   "id": "ff7eecc0-9c0d-4f9a-be15-cc6d70a87ee4",
   "metadata": {},
   "outputs": [],
   "source": [
    "def sinalDeNumero(numero):\n",
    "    if numero > 0:\n",
    "        print(\"p\")\n",
    "    if numero <= 0:\n",
    "        print(\"n\")\n",
    "sinalDeNumero(40)"
   ]
  },
  {
   "cell_type": "code",
   "execution_count": null,
   "id": "103129fc-b233-432e-a1e2-b14f41a6c5c6",
   "metadata": {},
   "outputs": [],
   "source": [
    "def somaImposto(taxaImposto, custo):\n",
    "    custo = custo + custo*(taxaImposto/100)\n",
    "    return print(\"O custo final do seu produto é: \", custo)\n",
    "somaImposto(68, 20)"
   ]
  },
  {
   "cell_type": "code",
   "execution_count": null,
   "id": "c5874b06-a09a-4f9b-b9bc-108816cb978c",
   "metadata": {},
   "outputs": [],
   "source": [
    "def horaConvert(h, m):\n",
    "    if 0<h<=12 and 0<m<60:\n",
    "        print(f\"{h}:{m} a\")\n",
    "    elif 12<h<24 and 0<m<60:\n",
    "        print(f\"{h - 12}:{m} p\")\n",
    "    else:\n",
    "        print(\"Valor incorreto\")\n",
    "        \n",
    "while True:\n",
    "    h = int(input(\"Digite a hora desejada: \"))\n",
    "    if h == 999: break\n",
    "    m = int(input(\"Digite o valor dos minutos: \"))\n",
    "    horaConvert(h, m)\n",
    "    print(\"=\"*12)"
   ]
  },
  {
   "cell_type": "code",
   "execution_count": 9,
   "id": "1dda32c1-5774-4643-95b6-b9eca9c37f3e",
   "metadata": {},
   "outputs": [
    {
     "name": "stdin",
     "output_type": "stream",
     "text": [
      "Indique o valor da prestação a ser paga:  300\n",
      "Indique o número de dias em atraso que a conta será paga:  0\n",
      "Indique o valor da prestação a ser paga:  0\n"
     ]
    },
    {
     "name": "stdout",
     "output_type": "stream",
     "text": [
      "Foi cerca de 300 reais o valor total pago hoje\n",
      "Foram cerca de 1 prestações pagas hoje\n"
     ]
    }
   ],
   "source": [
    "def valorPagamento(p, d):\n",
    "    if d == 0:\n",
    "        return p\n",
    "    else:\n",
    "        return p + (p * 0.03) + 0.001*d\n",
    "        print(\"O valor final da prestação é: \", p)\n",
    "contador = 0\n",
    "total = 0\n",
    "\n",
    "while True:\n",
    "    p = int(input(\"Indique o valor da prestação a ser paga: \"))\n",
    "    if p == 0:\n",
    "        break\n",
    "    d = int(input(\"Indique o número de dias em atraso que a conta será paga: \"))\n",
    "    total += valorPagamento(p, d)\n",
    "contador += 1\n",
    "print(f\"Foi cerca de {total} reais o valor total pago hoje\")\n",
    "print(f\"Foram cerca de {contador} prestações pagas hoje\")"
   ]
  },
  {
   "cell_type": "code",
   "execution_count": 11,
   "id": "5165c76f-24aa-4c9d-964f-b88e7dd944b7",
   "metadata": {},
   "outputs": [
    {
     "data": {
      "text/plain": [
       "4"
      ]
     },
     "execution_count": 11,
     "metadata": {},
     "output_type": "execute_result"
    }
   ],
   "source": [
    "def digitos(numero):\n",
    "    resultado = str(numero)\n",
    "    return len(resultado)\n",
    "digitos(398)"
   ]
  },
  {
   "cell_type": "code",
   "execution_count": 13,
   "id": "234a1153-78c4-4e22-960f-185458972343",
   "metadata": {},
   "outputs": [
    {
     "data": {
      "text/plain": [
       "'493'"
      ]
     },
     "execution_count": 13,
     "metadata": {},
     "output_type": "execute_result"
    }
   ],
   "source": [
    "def inversoNumero(n):\n",
    "    resultado = str(n)\n",
    "    return resultado [::-1]\n",
    "inversoNumero(394)"
   ]
  }
 ],
 "metadata": {
  "kernelspec": {
   "display_name": "Python 3 (ipykernel)",
   "language": "python",
   "name": "python3"
  },
  "language_info": {
   "codemirror_mode": {
    "name": "ipython",
    "version": 3
   },
   "file_extension": ".py",
   "mimetype": "text/x-python",
   "name": "python",
   "nbconvert_exporter": "python",
   "pygments_lexer": "ipython3",
   "version": "3.12.2"
  }
 },
 "nbformat": 4,
 "nbformat_minor": 5
}
