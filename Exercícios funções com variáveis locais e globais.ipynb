{
 "cells": [
  {
   "cell_type": "code",
   "execution_count": null,
   "id": "e9aeba20-e7fb-4886-8d36-7151c8353ea9",
   "metadata": {},
   "outputs": [],
   "source": [
    "def calculaMedia(lista):\n",
    "    lista = [1, 2, 3, 4, 5, 6]\n",
    "    soma = sum(lista)\n",
    "    media = soma/len(lista)\n",
    "    return media\n",
    "calculaMedia(lista)"
   ]
  },
  {
   "cell_type": "code",
   "execution_count": null,
   "id": "f44760c7-e3aa-40b6-b600-99ed3c31cc64",
   "metadata": {},
   "outputs": [],
   "source": [
    "contador = 0\n",
    "def contar_chamada():\n",
    "    global contador\n",
    "    contador+=1\n",
    "    return contador\n",
    "print(\"Número de chamadas: \", contar_chamada())\n",
    "print(\"Número de chamadas: \", contar_chamada())\n",
    "print(\"Número de chamadas: \", contar_chamada())\n",
    "print(\"Número de chamadas: \", contar_chamada())"
   ]
  },
  {
   "cell_type": "code",
   "execution_count": null,
   "id": "4fb37b4b-4e69-46e2-88f5-f1f59750ba94",
   "metadata": {},
   "outputs": [],
   "source": [
    "def juntaTexto():\n",
    "    global x\n",
    "    x = \"oi \"\n",
    "    c = \"tudo bem?\"\n",
    "    print(x+c)\n",
    "x = \"olá\"\n",
    "juntaTexto()"
   ]
  },
  {
   "cell_type": "code",
   "execution_count": null,
   "id": "969c66ea-db14-4e2d-82a7-06d2f06727ab",
   "metadata": {},
   "outputs": [],
   "source": [
    "def maiorNumero():\n",
    "    c = [1, 2, 3, 4, 5, 6, 7, 10, 15, 84, 37, 16, 64]\n",
    "    maior = max (c)\n",
    "    return maior\n",
    "maiorNumero()"
   ]
  },
  {
   "cell_type": "code",
   "execution_count": null,
   "id": "39148baa-5fa3-40ac-9911-7d2bbeab9dbb",
   "metadata": {},
   "outputs": [],
   "source": [
    "def somaNumero():\n",
    "    global x\n",
    "    x = 3\n",
    "    c = 5\n",
    "    print(x+c)\n",
    "x = -1\n",
    "somaNumero()"
   ]
  },
  {
   "cell_type": "code",
   "execution_count": null,
   "id": "9a82db4d-49b3-4c42-bc66-cdced7e8ee68",
   "metadata": {},
   "outputs": [],
   "source": [
    "def complementaLista():\n",
    "    global lista\n",
    "    lista = [1, 2, 3, 4, 5, 6, 7, 8, 9, 10]\n",
    "    c = 15\n",
    "    lista.append(c)\n",
    "    return lista\n",
    "complementaLista()"
   ]
  },
  {
   "cell_type": "code",
   "execution_count": 2,
   "id": "0581c334-1534-4bf6-b03b-e68580946fbb",
   "metadata": {},
   "outputs": [
    {
     "name": "stdin",
     "output_type": "stream",
     "text": [
      "Digite um número a ser descoberto o fatorial:  5\n"
     ]
    },
    {
     "name": "stdout",
     "output_type": "stream",
     "text": [
      "120\n"
     ]
    }
   ],
   "source": [
    "d = int(input(\"Digite um número a ser descoberto o fatorial: \"))\n",
    "def calculaFatorial(d):\n",
    "    fatorial=1\n",
    "    for n in range(1,d+1):\n",
    "        fatorial *= n\n",
    "    if d == 0:\n",
    "        fatorial=1\n",
    "    print(fatorial)\n",
    "calculaFatorial(d)"
   ]
  },
  {
   "cell_type": "code",
   "execution_count": 11,
   "id": "8d5146b4-da8c-42bc-88bb-84ad038df741",
   "metadata": {},
   "outputs": [
    {
     "name": "stdin",
     "output_type": "stream",
     "text": [
      "Digite um número:  6\n"
     ]
    },
    {
     "name": "stdout",
     "output_type": "stream",
     "text": [
      "3.0\n"
     ]
    }
   ],
   "source": [
    "a = int(input(\"Digite um número: \"))\n",
    "def divideNumero():\n",
    "    global b\n",
    "    b = 2\n",
    "    resultado = a/b\n",
    "    print(resultado)\n",
    "b = 1\n",
    "divideNumero()"
   ]
  },
  {
   "cell_type": "code",
   "execution_count": 13,
   "id": "5077cb99-11c0-4074-9d9b-a79e07a72b8d",
   "metadata": {},
   "outputs": [
    {
     "name": "stdin",
     "output_type": "stream",
     "text": [
      "Digite um número:  5\n"
     ]
    },
    {
     "name": "stdout",
     "output_type": "stream",
     "text": [
      "Número é ímpar\n"
     ]
    }
   ],
   "source": [
    "n = int(input(\"Digite um número: \"))\n",
    "def parOuÍmpar(n):\n",
    "    if n % 2 ==0:\n",
    "        print(\"Número é par\")\n",
    "    else:\n",
    "        print(\"Número é ímpar\")\n",
    "parOuÍmpar(n)"
   ]
  },
  {
   "cell_type": "code",
   "execution_count": 18,
   "id": "e6676d42-e379-4402-88f2-3cf8410a91ea",
   "metadata": {},
   "outputs": [
    {
     "data": {
      "text/plain": [
       "[1, 2, 3, 5, 6, 7, 8, 9, 10]"
      ]
     },
     "execution_count": 18,
     "metadata": {},
     "output_type": "execute_result"
    }
   ],
   "source": [
    "def removeItem():\n",
    "    global lista\n",
    "    lista = [1, 2, 3, 4, 5, 6, 7, 8, 9, 10]\n",
    "    del lista[3]\n",
    "    return lista\n",
    "removeItem()"
   ]
  }
 ],
 "metadata": {
  "kernelspec": {
   "display_name": "Python 3 (ipykernel)",
   "language": "python",
   "name": "python3"
  },
  "language_info": {
   "codemirror_mode": {
    "name": "ipython",
    "version": 3
   },
   "file_extension": ".py",
   "mimetype": "text/x-python",
   "name": "python",
   "nbconvert_exporter": "python",
   "pygments_lexer": "ipython3",
   "version": "3.12.2"
  }
 },
 "nbformat": 4,
 "nbformat_minor": 5
}
