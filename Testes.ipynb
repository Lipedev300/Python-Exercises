{
 "cells": [
  {
   "cell_type": "code",
   "execution_count": null,
   "id": "f391baf1",
   "metadata": {},
   "outputs": [],
   "source": [
    "a = 10\n",
    "b = 20\n",
    "c = 30\n",
    "print(\"b+c dá como resultado: \", b+c)   "
   ]
  },
  {
   "cell_type": "code",
   "execution_count": null,
   "id": "2c12b385-539b-4251-bb38-c2015729bc8c",
   "metadata": {},
   "outputs": [],
   "source": [
    "a = 10\n",
    "b = 20\n",
    "c = 30\n",
    "print(\"b+c dá como resultado: \", b+c)   "
   ]
  },
  {
   "cell_type": "code",
   "execution_count": null,
   "id": "486b16ad-a676-4285-8bb4-cebd9d054154",
   "metadata": {},
   "outputs": [],
   "source": [
    "pi = 3\n",
    "r = 4\n",
    "area = pi*r*r\n",
    "print(\"A área do círculo de raio %.2f\" %r + \"é: %.2f\" %area)"
   ]
  },
  {
   "cell_type": "code",
   "execution_count": null,
   "id": "e9f52134-a67f-4f96-a658-4211b1236472",
   "metadata": {
    "scrolled": true
   },
   "outputs": [],
   "source": [
    "Numero = int(input(\"Digite um número: \"))\n",
    "Numero = Numero*10\n",
    "print(\"O número informado vezes 10 dá como resultado: \", Numero)"
   ]
  },
  {
   "cell_type": "code",
   "execution_count": null,
   "id": "4de7e66a-0081-4885-bee6-4805e6c46506",
   "metadata": {},
   "outputs": [],
   "source": [
    "n = 4\n",
    "raiz = n**0.5\n",
    "print(\"O resultado da raíz quadrada de 4 é: \", raiz)"
   ]
  },
  {
   "cell_type": "code",
   "execution_count": null,
   "id": "20cd1598-8b99-4b82-826a-ee1da7757848",
   "metadata": {},
   "outputs": [],
   "source": [
    "n = 25\n",
    "raiz = n**0.5\n",
    "print(\"O resultado da raíz quadrada de %.3f \" %n + \"é: %.3f \" %raiz)"
   ]
  },
  {
   "cell_type": "code",
   "execution_count": null,
   "id": "9dcdd912-fb18-4290-bd65-8502c43c1475",
   "metadata": {},
   "outputs": [],
   "source": [
    "n = 27\n",
    "cubo = n**(1/3)\n",
    "print(\"O resultado da raíz cúbica de \" +str(n) + \"é: \" +str(cubo))"
   ]
  },
  {
   "cell_type": "code",
   "execution_count": null,
   "id": "00ad2d5c-b061-4fe6-a6fd-28bc3ba0f3aa",
   "metadata": {},
   "outputs": [],
   "source": [
    "n = 100\n",
    "x = 100**0.5\n",
    "print(\"O resultado da raíz quadrada de %.2f \" %n + \"é: %.2f\" %x)"
   ]
  },
  {
   "cell_type": "code",
   "execution_count": null,
   "id": "b789ca19-219d-4170-b6e5-d820faa73c81",
   "metadata": {},
   "outputs": [],
   "source": [
    "            numero = int(input(\"Digite um número: \"))\n",
    "result = numero*10\n",
    "print(          \"O           resultado do número digitado vezes 10 é: \", result)                                                                                "
   ]
  },
  {
   "cell_type": "code",
   "execution_count": null,
   "id": "4868683e-f3db-46ba-841a-d5d03aa1ef79",
   "metadata": {},
   "outputs": [],
   "source": [
    "print(\"25**0.5)+(16**0.5\")\n",
    "x = (25 **0.5)+(16**0.5)     \n",
    "    print(\"O resultado da expressão acima é: \",      x)                                 "
   ]
  },
  {
   "cell_type": "code",
   "execution_count": null,
   "id": "8f6bc586-409a-4c58-a87b-08159f83f280",
   "metadata": {},
   "outputs": [],
   "source": [
    "nome = input(\"Digite um nome: \")\n",
    "def saudacao(nome):\n",
    "    print(\"Olá, \" +str (nome) + \"! Seja muito bem-vindo(a) ao nosso aplicativo!\")\n",
    "saudacao(nome)"
   ]
  },
  {
   "cell_type": "code",
   "execution_count": null,
   "id": "5b550674-450d-453c-ba3d-4e13ec488f94",
   "metadata": {},
   "outputs": [],
   "source": [
    "numero = int(input(\"Digite um número: \"))\n",
    "if numero % 2 == 0:\n",
    "    print(\"Número é par\")\n",
    "else:\n",
    "    print(\"Número é ímpar\")"
   ]
  },
  {
   "cell_type": "code",
   "execution_count": null,
   "id": "617092b6-b64d-4dff-a329-fcd306d9418c",
   "metadata": {},
   "outputs": [],
   "source": [
    "soma = 0\n",
    "for i in range(0, 11, 2):\n",
    "    soma += i\n",
    "print(\"O resultado da soma dos números pares de 1 a 10 é: \", soma)"
   ]
  },
  {
   "cell_type": "code",
   "execution_count": null,
   "id": "346d16a8-e2ad-430e-8721-305b23204c5b",
   "metadata": {},
   "outputs": [],
   "source": [
    "a = input(\"Digite uma palavra: \")\n",
    "b = input(\"Digite outra palavra: \")\n",
    "c = \"\"\n",
    "for letra in a:\n",
    "    while letra in b and letra not in c:\n",
    "        c += letra\n",
    "print(\"A palavra formada pelos caracteres comuns à essas duas palavras informadas é: \", c)"
   ]
  },
  {
   "cell_type": "code",
   "execution_count": null,
   "id": "d2a88868-15c0-4bec-a0cb-6027034e4117",
   "metadata": {},
   "outputs": [],
   "source": [
    "n = int(input(\"Digite o número de notas que deseja registrar: \"))\n",
    "notas = []\n",
    "for i in range(n):\n",
    "    dado = float(input(\"Entre com a nota: \"))\n",
    "notas.append(dado)\n",
    "print(notas)\n",
    "soma = 0\n",
    "for i in range(len(notas)):\n",
    "    soma = soma + notas[i]\n",
    "    print(soma)\n",
    "media = soma / n\n",
    "print(\"A média das notas informadas é: \", media)"
   ]
  },
  {
   "cell_type": "code",
   "execution_count": null,
   "id": "80e6eb3f-e34b-4bb1-8955-0066e0ff2708",
   "metadata": {},
   "outputs": [],
   "source": [
    "notas = [8.0, 5.5, 9.3, 7.6, 3.1]\n",
    "notas[3] = 0.5\n",
    "print(notas)"
   ]
  },
  {
   "cell_type": "code",
   "execution_count": null,
   "id": "f3823ea1-0407-4b08-a0fd-1fcb2342ee28",
   "metadata": {},
   "outputs": [],
   "source": [
    "lista = [0]\n",
    "lista = 101 * lista\n",
    "for i in range(101):\n",
    "    lista[i] = 5*i\n",
    "print(lista)"
   ]
  },
  {
   "cell_type": "code",
   "execution_count": null,
   "id": "5d489455-dee0-4ba8-8a03-9bf134bbb0bb",
   "metadata": {},
   "outputs": [],
   "source": [
    "lista = [0]\n",
    "lista = lista * 1001\n",
    "for i in range(1, 1001):\n",
    "    print(lista)"
   ]
  },
  {
   "cell_type": "code",
   "execution_count": 7,
   "id": "9cd9d557-8979-41de-830f-90556823cb09",
   "metadata": {},
   "outputs": [
    {
     "name": "stdin",
     "output_type": "stream",
     "text": [
      "Digite seu CPF:  08926486940\n",
      "Digite seu nome:  Luiz Felipe\n",
      "Informe sua idade:  18 anos\n",
      "Informe seu telefone, com DDD:  048991278154\n"
     ]
    },
    {
     "name": "stdout",
     "output_type": "stream",
     "text": [
      "[{'nome': 'Luiz Felipe', 'idade': '18 anos', 'fone': '048991278154', 'cpf': 8926486940}]\n"
     ]
    },
    {
     "name": "stdin",
     "output_type": "stream",
     "text": [
      "Digite seu CPF:  03892374830\n",
      "Digite seu nome:  Maria\n",
      "Informe sua idade:  23\n",
      "Informe seu telefone, com DDD:  011992837483\n"
     ]
    },
    {
     "name": "stdout",
     "output_type": "stream",
     "text": [
      "[{'nome': 'Luiz Felipe', 'idade': '18 anos', 'fone': '048991278154', 'cpf': 8926486940}, {'nome': 'Maria', 'idade': '23', 'fone': '011992837483', 'cpf': 3892374830}]\n"
     ]
    },
    {
     "name": "stdin",
     "output_type": "stream",
     "text": [
      "Digite seu CPF:  -1\n"
     ]
    },
    {
     "name": "stdout",
     "output_type": "stream",
     "text": [
      "CPF inválido, fim do programa.\n"
     ]
    }
   ],
   "source": [
    "agenda = {}\n",
    "lista = []\n",
    "def montaAgenda(cpf):\n",
    "    nome = input(\"Digite seu nome: \")\n",
    "    idade = input(\"Informe sua idade: \")\n",
    "    telefone = input(\"Informe seu telefone, com DDD: \")\n",
    "    agenda={\"nome\": nome, \"idade\": idade, \"fone\": telefone, \"cpf\": cpf}\n",
    "    lista.append(agenda)\n",
    "while True:\n",
    "    cpf = int(input(\"Digite seu CPF: \"))\n",
    "    if int(cpf) == -1:\n",
    "        print(\"CPF inválido, fim do programa.\")\n",
    "        break\n",
    "    montaAgenda(cpf)\n",
    "    print(lista)\n",
    "for chave, valor in agenda.items():\n",
    "    print(f\"{chave}: {valor}\")"
   ]
  }
 ],
 "metadata": {
  "kernelspec": {
   "display_name": "Python 3 (ipykernel)",
   "language": "python",
   "name": "python3"
  },
  "language_info": {
   "codemirror_mode": {
    "name": "ipython",
    "version": 3
   },
   "file_extension": ".py",
   "mimetype": "text/x-python",
   "name": "python",
   "nbconvert_exporter": "python",
   "pygments_lexer": "ipython3",
   "version": "3.12.2"
  }
 },
 "nbformat": 4,
 "nbformat_minor": 5
}
