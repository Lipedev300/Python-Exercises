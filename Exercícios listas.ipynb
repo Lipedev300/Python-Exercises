{
 "cells": [
  {
   "cell_type": "code",
   "execution_count": null,
   "id": "9d0039bb-c098-4f3f-b217-dd13034e36fb",
   "metadata": {},
   "outputs": [],
   "source": [
    "import random\n",
    "nums = []\n",
    "for i in range (10):\n",
    "    nums.append(random.randint(1, 100))\n",
    "print(nums)\n",
    "print(\"O maior número da lista é: \", max (nums))"
   ]
  },
  {
   "cell_type": "code",
   "execution_count": null,
   "id": "19618cd3-7b8f-475b-b882-2b0359f03ff4",
   "metadata": {},
   "outputs": [],
   "source": [
    "a = int(input(\"Digite um número: \"))\n",
    "b = int(input(\"Digite outro número: \"))\n",
    "c = int(input(\"Digite um terceiro número: \"))\n",
    "d = int(input(\"Digite um último número: \"))\n",
    "lista = [a, b, c,d]\n",
    "print(lista)\n",
    "menor = a\n",
    "if b < a and b < c and b < d:\n",
    "    menor = b\n",
    "if c < d and c < a and c < b:\n",
    "    menor = c\n",
    "if d < a and d < b and d < c:\n",
    "    menor = d\n",
    "print(\"O menor desses números é: \", menor)"
   ]
  },
  {
   "cell_type": "code",
   "execution_count": null,
   "id": "1228fb12-22e4-425b-95df-c2680f0ec333",
   "metadata": {},
   "outputs": [],
   "source": [
    "lista = []\n",
    "for i in range(0, 21, 2):\n",
    "    lista.append(i)\n",
    "print(lista)"
   ]
  },
  {
   "cell_type": "code",
   "execution_count": null,
   "id": "a94b537f-b61f-4f91-8ac0-b26e05607ce5",
   "metadata": {},
   "outputs": [],
   "source": [
    "nomes = [\"Ana\", \"Bianca\", \"Estela\", \"Angelina\", \"Débora\"]\n",
    "for c in nomes:\n",
    "    if c.startswith(\"A\"):\n",
    "        print(c)"
   ]
  },
  {
   "cell_type": "code",
   "execution_count": null,
   "id": "f611b18a-0ee0-447b-8055-e0a2fd350b62",
   "metadata": {},
   "outputs": [],
   "source": [
    "lista = [4, 7, 11, 44, 39, 68, 98, 77]\n",
    "x = []\n",
    "for i in lista:\n",
    "    if i % 2 == 0:\n",
    "        x.append(i)\n",
    "print(x)"
   ]
  },
  {
   "cell_type": "code",
   "execution_count": null,
   "id": "c2f5ee35-4895-4dad-9830-215c1efc4ebc",
   "metadata": {},
   "outputs": [],
   "source": [
    "lista = [\"cavalo\", \"harpa\", \"espiritismo\", \"amigos\", \"caixa\"]\n",
    "lista.sort()\n",
    "key = str.lower\n",
    "print(lista)"
   ]
  },
  {
   "cell_type": "code",
   "execution_count": null,
   "id": "aec40730-e676-4cb1-9e69-0d90ad9f2dfa",
   "metadata": {},
   "outputs": [],
   "source": [
    "numeros = [1, 2, 3, 4, 5, 6, 7, 8, 9, 10]\n",
    "soma = 0\n",
    "for i in numeros:\n",
    "    soma += i\n",
    "print(\"O resultado da soma desses números é: \", soma)"
   ]
  },
  {
   "cell_type": "code",
   "execution_count": 4,
   "id": "f7daaa53-8db9-46fd-bd24-7b7b629a36b1",
   "metadata": {},
   "outputs": [
    {
     "name": "stdin",
     "output_type": "stream",
     "text": [
      "Digite um número:  52\n"
     ]
    },
    {
     "name": "stdout",
     "output_type": "stream",
     "text": [
      "Número não encontrado!\n"
     ]
    }
   ],
   "source": [
    "numeros = [1, 4, 53, 5, 3, 90, 58, 49, 64]\n",
    "n = int(input(\"Digite um número: \"))\n",
    "for _ in numeros:\n",
    "    if n in numeros:\n",
    "        print(\"O número \" +str(n) + \"está presente na lista\")\n",
    "else:\n",
    "    print(\"Número não encontrado!\")"
   ]
  },
  {
   "cell_type": "code",
   "execution_count": 9,
   "id": "7c965935-0c1c-4f2c-9ded-dd94b72f6cdb",
   "metadata": {},
   "outputs": [
    {
     "name": "stdout",
     "output_type": "stream",
     "text": [
      "[9, 16, 25, 36]\n"
     ]
    }
   ],
   "source": [
    "lista = [3, 4, 5, 6]\n",
    "x = []\n",
    "for i in lista:\n",
    "    x.append(i ** 2)\n",
    "print(x)"
   ]
  },
  {
   "cell_type": "code",
   "execution_count": 10,
   "id": "df98a30e-13f2-456f-a37f-5e6a2ce64490",
   "metadata": {},
   "outputs": [
    {
     "name": "stdout",
     "output_type": "stream",
     "text": [
      "O resultado da soma é:  15\n",
      "A média desses números é:  3.0\n"
     ]
    }
   ],
   "source": [
    "lista = [1, 2, 3, 4, 5]\n",
    "soma = 0\n",
    "for i in lista:\n",
    "    soma += i\n",
    "print(\"O resultado da soma é: \", soma)\n",
    "n = len(lista)\n",
    "media = soma / n\n",
    "print(\"A média desses números é: \", media)"
   ]
  }
 ],
 "metadata": {
  "kernelspec": {
   "display_name": "Python 3 (ipykernel)",
   "language": "python",
   "name": "python3"
  },
  "language_info": {
   "codemirror_mode": {
    "name": "ipython",
    "version": 3
   },
   "file_extension": ".py",
   "mimetype": "text/x-python",
   "name": "python",
   "nbconvert_exporter": "python",
   "pygments_lexer": "ipython3",
   "version": "3.12.2"
  }
 },
 "nbformat": 4,
 "nbformat_minor": 5
}
