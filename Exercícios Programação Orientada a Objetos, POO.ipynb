{
 "cells": [
  {
   "cell_type": "code",
   "execution_count": 7,
   "id": "37ef0389-d2cb-4e5f-8b7b-26806dd0ce71",
   "metadata": {},
   "outputs": [
    {
     "name": "stdout",
     "output_type": "stream",
     "text": [
      "O livro 365_dias_que_mudaram_o_mundo, escrito por the_history_channel está agora aberto, boa leitura!\n",
      "O livro 365_dias_que_mudaram_o_mundo, escrito por the_history_channel está agora fechado.\n"
     ]
    }
   ],
   "source": [
    "class Livro:\n",
    "    def __init__ (self, título, autor, paginas):\n",
    "        self.título = título\n",
    "        self.autor = autor\n",
    "        self.paginas = paginas\n",
    "    def abrir_livro(self):\n",
    "        return f\"O livro {self.título}, escrito por {self.autor} está agora aberto, boa leitura!\"\n",
    "    def fechar_livro(self):\n",
    "        return f\"O livro {self.título}, escrito por {self.autor} está agora fechado.\"\n",
    "history = Livro (\"365_dias_que_mudaram_o_mundo\", \"the_history_channel\", 816)\n",
    "print(history.abrir_livro())\n",
    "print(history.fechar_livro())"
   ]
  },
  {
   "cell_type": "code",
   "execution_count": 5,
   "id": "82e3f3ae-7b7f-4eef-a716-4acac80b3759",
   "metadata": {},
   "outputs": [
    {
     "name": "stdout",
     "output_type": "stream",
     "text": [
      "O livro 365 dias que mudaram o mundo, escrito por The History Channel, com 816 páginas, em formato pdf foi encontrado com sucesso na biblioteca, baixe agora e boa leitura!\n"
     ]
    }
   ],
   "source": [
    "class Livro:\n",
    "    def __init__ (self, título, autor, paginas):\n",
    "        self.título = título\n",
    "        self.autor = autor\n",
    "        self.paginas = paginas\n",
    "    def abrir_livro(self):\n",
    "        return f\"O livro {self.título}, escrito por {self.autor} está agora aberto, boa leitura!\"\n",
    "class Book(Livro):\n",
    "    def __init__ (self, título, autor, paginas, formato):\n",
    "        super() .__init__ (título, autor, paginas)\n",
    "        self.formato = formato\n",
    "    def exibir_formato(self):\n",
    "        return f\"O livro {self.título}, escrito por {self.autor}, com {self.paginas} páginas, em formato {self.formato} foi encontrado com sucesso na biblioteca, baixe agora e boa leitura!\"\n",
    "title = Book(\"365 dias que mudaram o mundo\", \"The History Channel\", 816, \"pdf\")\n",
    "print(title.exibir_formato())"
   ]
  },
  {
   "cell_type": "code",
   "execution_count": 8,
   "id": "b2cacbd3-1de2-4aaa-b847-207b5439c24d",
   "metadata": {},
   "outputs": [
    {
     "name": "stdout",
     "output_type": "stream",
     "text": [
      "seja muito bem-vindo(a) ao nosso aplicativo, João!\n"
     ]
    }
   ],
   "source": [
    "class Pessoa:\n",
    "    def __init__ (self, nome, idade):\n",
    "        self.nome = nome\n",
    "        self.idade = idade\n",
    "    def cumprimentar(self):\n",
    "        return f\"seja muito bem-vindo(a) ao nosso aplicativo, {self.nome}!\"\n",
    "usuario = Pessoa(\"João\", 18)\n",
    "print(usuario.cumprimentar())"
   ]
  },
  {
   "cell_type": "code",
   "execution_count": 1,
   "id": "1307478a-c7d3-433a-b3c6-91c9d7317eb8",
   "metadata": {},
   "outputs": [
    {
     "name": "stdout",
     "output_type": "stream",
     "text": [
      "O salário do funcionário(a) João, de 24 anos, é de 4000 reais\n"
     ]
    }
   ],
   "source": [
    "class Pessoa:\n",
    "    def __init__ (self, nome, idade):\n",
    "        self.nome = nome\n",
    "        self.idade = idade\n",
    "class Funcionario(Pessoa):\n",
    "    def __init__ (self, nome, idade, salario):\n",
    "        super() .__init__ (nome, idade)\n",
    "        self.salario = salario\n",
    "    def exibir_salario(self):\n",
    "        return f\"O salário do funcionário(a) {self.nome}, de {self.idade} anos, é de {self.salario} reais\"\n",
    "empregado = Funcionario(\"João\", 24, 4000)\n",
    "print(empregado.exibir_salario())"
   ]
  },
  {
   "cell_type": "code",
   "execution_count": 11,
   "id": "d9e74666-a3dc-41f7-98ab-78be55f57849",
   "metadata": {},
   "outputs": [
    {
     "name": "stdout",
     "output_type": "stream",
     "text": [
      "depósito de 20 reais realizado com sucesso. O novo saldo é de 20 reais\n"
     ]
    }
   ],
   "source": [
    "class ContaBancaria:\n",
    "    def __init__ (self, conta, saldo):\n",
    "        self.conta = conta\n",
    "        self.saldo = saldo\n",
    "    def depositar(self, valor):\n",
    "        if valor > 0:\n",
    "            self.saldo += valor\n",
    "            print(f\"depósito de {valor} reais realizado com sucesso. O novo saldo é de {self.saldo} reais\")\n",
    "        else:\n",
    "            print(\"Valor inválido. O valor a ser depositado precisa ser maior que 0.\")\n",
    "    def sacar(self, valor):\n",
    "            if valor > 0:\n",
    "                self.saldo -= valor\n",
    "                print(f\"Saque de {valor:.2f} reais realizado com sucesso. O novo saldo é de {self.__saldo:.2f} reais.\")\n",
    "            else:\n",
    "                print(\"Aí, você por acaso quer ficar negativado e pagar juros pro banco depois? Fique atento ou terá problemas!\")\n",
    "bank = ContaBancaria (3647, 0)\n",
    "bank.depositar(20)"
   ]
  }
 ],
 "metadata": {
  "kernelspec": {
   "display_name": "Python 3 (ipykernel)",
   "language": "python",
   "name": "python3"
  },
  "language_info": {
   "codemirror_mode": {
    "name": "ipython",
    "version": 3
   },
   "file_extension": ".py",
   "mimetype": "text/x-python",
   "name": "python",
   "nbconvert_exporter": "python",
   "pygments_lexer": "ipython3",
   "version": "3.12.2"
  }
 },
 "nbformat": 4,
 "nbformat_minor": 5
}
