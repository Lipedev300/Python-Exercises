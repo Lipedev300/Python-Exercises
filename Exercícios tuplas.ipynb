{
 "cells": [
  {
   "cell_type": "code",
   "execution_count": 2,
   "id": "96e44fe6-b87e-4c14-b3dd-510a462726ce",
   "metadata": {},
   "outputs": [
    {
     "name": "stdout",
     "output_type": "stream",
     "text": [
      "março\n"
     ]
    }
   ],
   "source": [
    "ano = (\"janeiro\", \"fevereiro\", \"março\", \"abril\", \"maio\", \"junho\", \"julho\", \"agosto\", \"setembro\", \"outubro\", \"novembro\", \"dezembro\")\n",
    "print(ano[2])"
   ]
  },
  {
   "cell_type": "code",
   "execution_count": null,
   "id": "836f3bfc-1372-4eb7-b372-569c3aa9ce7e",
   "metadata": {},
   "outputs": [],
   "source": [
    "t = (1, 2, 3, 4, 5)\n",
    "soma = 0\n",
    "for i in t:\n",
    "    soma += i\n",
    "print(soma)"
   ]
  },
  {
   "cell_type": "code",
   "execution_count": null,
   "id": "32899952-e24c-480b-a9a4-58df52329747",
   "metadata": {},
   "outputs": [],
   "source": [
    "f = (\"banana\", \"laranja\", \"pêra\", \"goiaba\", \"mangaba\", \"mamão\", \"jabuticaba\", \"limão\")\n",
    "\"limão\" in f"
   ]
  },
  {
   "cell_type": "code",
   "execution_count": 1,
   "id": "9096163e-11f0-4128-8e62-1f27d011ac9d",
   "metadata": {},
   "outputs": [
    {
     "name": "stdout",
     "output_type": "stream",
     "text": [
      "A distância entre esses pontos no plano cartesiano é de:  14.5 u.m\n"
     ]
    }
   ],
   "source": [
    "a = (3, 1)\n",
    "b = (5, -4)\n",
    "d = ((5-3)**2+(-4-1)**2)*1/2\n",
    "print(\"A distância entre esses pontos no plano cartesiano é de: \", d, \"u.m\")"
   ]
  },
  {
   "cell_type": "code",
   "execution_count": null,
   "id": "328114ab-ef21-481c-8cde-e07756713774",
   "metadata": {},
   "outputs": [],
   "source": [
    "tc = (100, 20, 30, 45, 64)\n",
    "def calculaFarenheit(celsius):\n",
    "    return (celsius/5)*9+32\n",
    "tf = tuple(calculaFarenheit(temp) for temp in tc)\n",
    "print(tf)"
   ]
  },
  {
   "cell_type": "code",
   "execution_count": null,
   "id": "001844fc-eaf4-470d-8bbf-dd233b08f0e2",
   "metadata": {},
   "outputs": [],
   "source": [
    "cidades = (\"São Paulo\", \"Curitiba\", \"Florianópolis\", \"Porto Alegre\", \"Paris\", \"Aracaju\", \"Vitória\")\n",
    "print(sorted(cidades))"
   ]
  },
  {
   "cell_type": "code",
   "execution_count": null,
   "id": "b53d0369-963f-48a5-9a92-e096908e4ae3",
   "metadata": {},
   "outputs": [],
   "source": [
    "def max_min(numeros):\n",
    "    return max(numeros), min(numeros)\n",
    "numeros = (1, 2, 3, 4, 5, 6, 7, 8, 9, 10, 40, 64, 20, 30, 84, 90, 100, 36)\n",
    "max_min(numeros)"
   ]
  },
  {
   "cell_type": "code",
   "execution_count": null,
   "id": "447624a1-5d38-4e25-abb5-2c9d724e61c3",
   "metadata": {},
   "outputs": [],
   "source": [
    "paises = (\"Brasil\", \"Bélgica\", \"França\", \"Itália\", \"Inglaterra\", \"Brasil\", \"Espanha\", \"Argentina\")\n",
    "c = paises.count(\"Brasil\")\n",
    "print(\"O Brasil aparece \", c, \"vezes nessa tupla\")"
   ]
  },
  {
   "cell_type": "code",
   "execution_count": 22,
   "id": "3bd98a7f-2bf2-4305-bddd-aa5c41148438",
   "metadata": {},
   "outputs": [
    {
     "data": {
      "text/plain": [
       "(2, 4, 6, 8, 10, 40, 20, 30, 64, 90, 98, 100)"
      ]
     },
     "execution_count": 22,
     "metadata": {},
     "output_type": "execute_result"
    }
   ],
   "source": [
    "def pares(numeros):\n",
    "    lista = []\n",
    "    for i in numeros:\n",
    "        if i % 2 == 0:\n",
    "            lista.append(i)\n",
    "    return tuple(lista)\n",
    "numeros = (1, 2, 3, 4, 5, 6, 7, 8, 9, 10, 40, 20, 30, 64, 90, 83, 85, 98, 100, 11, 13, 15, 17)\n",
    "pares(numeros)"
   ]
  },
  {
   "cell_type": "code",
   "execution_count": 23,
   "id": "31c535b4-5f49-436a-8a5f-adc14b48d5cc",
   "metadata": {},
   "outputs": [
    {
     "name": "stdout",
     "output_type": "stream",
     "text": [
      "A média dessas notas é:  8.23\n"
     ]
    }
   ],
   "source": [
    "notas = (9, 8, 8.5, 10, 7, 5, 6, 9.3, 9.5, 10)\n",
    "soma = 0\n",
    "for i in notas:\n",
    "    soma += i\n",
    "media = soma/len(notas)\n",
    "print(\"A média dessas notas é: \", media)"
   ]
  }
 ],
 "metadata": {
  "kernelspec": {
   "display_name": "Python 3 (ipykernel)",
   "language": "python",
   "name": "python3"
  },
  "language_info": {
   "codemirror_mode": {
    "name": "ipython",
    "version": 3
   },
   "file_extension": ".py",
   "mimetype": "text/x-python",
   "name": "python",
   "nbconvert_exporter": "python",
   "pygments_lexer": "ipython3",
   "version": "3.12.2"
  }
 },
 "nbformat": 4,
 "nbformat_minor": 5
}
