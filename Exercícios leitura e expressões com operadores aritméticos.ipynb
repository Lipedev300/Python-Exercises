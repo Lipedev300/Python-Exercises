{
 "cells": [
  {
   "cell_type": "code",
   "execution_count": 1,
   "id": "d1d95c40-8c7b-41d7-9942-c548289bbee6",
   "metadata": {},
   "outputs": [
    {
     "name": "stdin",
     "output_type": "stream",
     "text": [
      "Digite o seu nome:  Luiz Felipe Basso\n"
     ]
    },
    {
     "name": "stdout",
     "output_type": "stream",
     "text": [
      "Luiz Felipe Basso\n"
     ]
    }
   ],
   "source": [
    "nome = input(\"Digite o seu nome: \")\n",
    "print(nome)"
   ]
  },
  {
   "cell_type": "code",
   "execution_count": 2,
   "id": "e5c5a595-e7c1-4675-a657-ecf7924335c8",
   "metadata": {},
   "outputs": [
    {
     "name": "stdout",
     "output_type": "stream",
     "text": [
      "O resultado de 2a vezes 3b é:  90\n"
     ]
    }
   ],
   "source": [
    "a = 3\n",
    "b = 5\n",
    "result = (2*a) * (3*b)\n",
    "print(\"O resultado de 2a vezes 3b é: \", result)"
   ]
  },
  {
   "cell_type": "code",
   "execution_count": 3,
   "id": "b3060e49-5618-4c17-bcb5-73b88230f9fb",
   "metadata": {},
   "outputs": [
    {
     "name": "stdin",
     "output_type": "stream",
     "text": [
      "Digite um número:  3\n",
      "Digite outro número:  4\n",
      "Digite um último número:  5\n"
     ]
    },
    {
     "name": "stdout",
     "output_type": "stream",
     "text": [
      "O resultado da soma desses três números é:  12\n"
     ]
    }
   ],
   "source": [
    "x = int(input(\"Digite um número: \"))\n",
    "y = int(input(\"Digite outro número: \"))\n",
    "z = int(input(\"Digite um último número: \"))\n",
    "soma = x+y+z\n",
    "print(\"O resultado da soma desses três números é: \", soma)"
   ]
  },
  {
   "cell_type": "code",
   "execution_count": 1,
   "id": "67ea0442-1f14-4796-b7ab-0c14cbb1216d",
   "metadata": {},
   "outputs": [
    {
     "name": "stdout",
     "output_type": "stream",
     "text": [
      "O aumento de 15% a um salário de 300 reais corresponde a:  45.0\n"
     ]
    }
   ],
   "source": [
    "sal = 300\n",
    "aumento = sal * 0.15\n",
    "print(\"O aumento de 15% a um salário de 300 reais corresponde a: \", aumento)"
   ]
  },
  {
   "cell_type": "code",
   "execution_count": 7,
   "id": "6fe377d1-be36-4f39-a362-65f6633d71de",
   "metadata": {},
   "outputs": [
    {
     "data": {
      "text/plain": [
       "199.95"
      ]
     },
     "execution_count": 7,
     "metadata": {},
     "output_type": "execute_result"
    }
   ],
   "source": [
    "5 * 0.15\n",
    "5.0 * 0.15\n",
    "4.3 * 0.15\n",
    "-2 * 0.15\n",
    "1333 * 0.15"
   ]
  },
  {
   "cell_type": "code",
   "execution_count": 8,
   "id": "6a92d695-cc0b-4526-9b1b-c28ae9c295bb",
   "metadata": {},
   "outputs": [
    {
     "name": "stdin",
     "output_type": "stream",
     "text": [
      "Digite um número:  33\n",
      "Digite outro número:  55\n"
     ]
    },
    {
     "name": "stdout",
     "output_type": "stream",
     "text": [
      "O resultado da soma desses dois números é:  88\n"
     ]
    }
   ],
   "source": [
    "x = int(input(\"Digite um número: \"))\n",
    "y = int(input(\"Digite outro número: \"))\n",
    "souma = x + y\n",
    "print(\"O resultado da soma desses dois números é: \", souma)"
   ]
  },
  {
   "cell_type": "code",
   "execution_count": 22,
   "id": "53de7d9c-e8c3-43b9-9798-edd74ebe6bd4",
   "metadata": {},
   "outputs": [
    {
     "name": "stdin",
     "output_type": "stream",
     "text": [
      "Digite um número para servir como medida em metros:  30\n"
     ]
    },
    {
     "name": "stdout",
     "output_type": "stream",
     "text": [
      "Em milímetros, a medida dada anteriormente em metros equivale a:  30000\n"
     ]
    }
   ],
   "source": [
    "x = int(input(\"Digite um número para servir como medida em metros: \"))\n",
    "mm = x * 1000\n",
    "print(\"Em milímetros, a medida dada anteriormente em metros equivale a: \", mm)"
   ]
  },
  {
   "cell_type": "code",
   "execution_count": 24,
   "id": "32f43242-22c6-4e1f-9023-dc7b0caae8b9",
   "metadata": {},
   "outputs": [
    {
     "name": "stdin",
     "output_type": "stream",
     "text": [
      "Digite o número de dias:  2\n",
      "Digite o número de horas:  4\n",
      "Digite o número de minutos:  30\n",
      "Digite o número de segundos:  40\n"
     ]
    },
    {
     "name": "stdout",
     "output_type": "stream",
     "text": [
      "O tempo total indicado, em segundos, é de:  189040\n"
     ]
    }
   ],
   "source": [
    "d = int(input(\"Digite o número de dias: \"))\n",
    "h = int(input(\"Digite o número de horas: \"))\n",
    "mn = int(input(\"Digite o número de minutos: \"))\n",
    "s = int(input(\"Digite o número de segundos: \"))\n",
    "ms = mn * 60\n",
    "sh = h * 60 * 60\n",
    "ds = d * 24 * 60 * 60\n",
    "st = ms + sh + ds + s\n",
    "print(\"O tempo total indicado, em segundos, é de: \", st)"
   ]
  },
  {
   "cell_type": "code",
   "execution_count": 25,
   "id": "156616cf-eb25-433c-867c-e919fd1f7a1a",
   "metadata": {},
   "outputs": [
    {
     "name": "stdin",
     "output_type": "stream",
     "text": [
      "Digite o valor do seu salário:  2000\n",
      "Informe o percentual do qual será aumentado o salário:  40\n"
     ]
    },
    {
     "name": "stdout",
     "output_type": "stream",
     "text": [
      "O valor do aumento será, em reais, de:  800.0\n",
      "Com o aumento, o novo salário será, em reais, de:  2800.0\n"
     ]
    }
   ],
   "source": [
    "sal = int(input(\"Digite o valor do seu salário: \"))\n",
    "aumento = int(input(\"Informe o percentual do qual será aumentado o salário: \"))\n",
    "vl = (sal * aumento) / 100\n",
    "print(\"O valor do aumento será, em reais, de: \", vl)\n",
    "ns = sal + vl\n",
    "print(\"Com o aumento, o novo salário será, em reais, de: \", ns)"
   ]
  },
  {
   "cell_type": "code",
   "execution_count": 31,
   "id": "78ca62a8-a244-4373-b258-213dd3ee82b3",
   "metadata": {},
   "outputs": [
    {
     "name": "stdin",
     "output_type": "stream",
     "text": [
      "Indique o preço original de sua ercadoria:  80\n",
      "Indique o percentual de desconto para essa mercadoria:  20\n"
     ]
    },
    {
     "name": "stdout",
     "output_type": "stream",
     "text": [
      "O valor a ser descontado do preço da mercadoria é de:  16.0\n",
      "Com o desconto, o novo preço da mercadoria será, em reais, de:  64.0\n"
     ]
    }
   ],
   "source": [
    "prc = int(input(\"Indique o preço original de sua ercadoria: \"))\n",
    "desc = int(input(\"Indique o percentual de desconto para essa mercadoria: \"))\n",
    "desconto = (prc * desc) / 100\n",
    "print(\"O valor a ser descontado do preço da mercadoria, em reais, é de: \", desconto)\n",
    "np = prc - desconto\n",
    "print(\"Com o desconto, o novo preço da mercadoria será, em reais, de: \", np)"
   ]
  },
  {
   "cell_type": "code",
   "execution_count": 6,
   "id": "e3462927-ae6e-4e94-b010-130a27853041",
   "metadata": {},
   "outputs": [
    {
     "name": "stdin",
     "output_type": "stream",
     "text": [
      "Informe a distância total da sua viagem, em km:  500\n",
      "Informe a velocidade média na qual irá andar durante a viagem:  100\n"
     ]
    },
    {
     "name": "stdout",
     "output_type": "stream",
     "text": [
      "O tempo da sua viagem, em horas, é de:  5.0\n"
     ]
    }
   ],
   "source": [
    "dist = int(input(\"Informe a distância total da sua viagem, em km: \"))\n",
    "vm = int(input(\"Informe a velocidade média na qual irá andar durante a viagem: \"))\n",
    "temp = dist / vm\n",
    "print(\"O tempo da sua viagem, em horas, é de: \", temp)"
   ]
  },
  {
   "cell_type": "code",
   "execution_count": 19,
   "id": "0c38787a-c803-4191-9f9f-e42a85f80883",
   "metadata": {},
   "outputs": [
    {
     "name": "stdin",
     "output_type": "stream",
     "text": [
      "Informe a temperatura em Graus Celsius, C:  -40\n"
     ]
    },
    {
     "name": "stdout",
     "output_type": "stream",
     "text": [
      "A respectiva temperatura, em graus Fahrenheit, f, é de:  -40.0\n"
     ]
    }
   ],
   "source": [
    "tc = int(input(\"Informe a temperatura em Graus Celsius, C: \"))\n",
    "tf = (tc * 9) / 5 + 32\n",
    "print(\"A respectiva temperatura, em graus Fahrenheit, f, é de: \", tf)"
   ]
  }
 ],
 "metadata": {
  "kernelspec": {
   "display_name": "Python 3 (ipykernel)",
   "language": "python",
   "name": "python3"
  },
  "language_info": {
   "codemirror_mode": {
    "name": "ipython",
    "version": 3
   },
   "file_extension": ".py",
   "mimetype": "text/x-python",
   "name": "python",
   "nbconvert_exporter": "python",
   "pygments_lexer": "ipython3",
   "version": "3.12.2"
  }
 },
 "nbformat": 4,
 "nbformat_minor": 5
}
