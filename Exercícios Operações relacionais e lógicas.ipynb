{
 "cells": [
  {
   "cell_type": "code",
   "execution_count": 9,
   "id": "f12d0651-661a-4d5e-9bd2-ac45b0cb9b29",
   "metadata": {},
   "outputs": [
    {
     "name": "stdout",
     "output_type": "stream",
     "text": [
      "Informe a velocidade do carro:  300\n"
     ]
    },
    {
     "name": "stdout",
     "output_type": "stream",
     "text": [
      "Como você ousa correr demais? Está multado! 1100\n"
     ]
    }
   ],
   "source": [
    "vel = int(input(\"Informe a velocidade do carro: \"))\n",
    "if (vel > 80):\n",
    "    multa = (vel - 80) * 5\n",
    "    print(\"Como você ousa correr demais? Está multado!\", multa)"
   ]
  },
  {
   "cell_type": "code",
   "execution_count": 13,
   "id": "a586ef48-b109-4315-9cbb-7628b6d253cd",
   "metadata": {},
   "outputs": [
    {
     "name": "stdout",
     "output_type": "stream",
     "text": [
      "digite um número:  3\n",
      "Digite um segundo número:  5\n",
      "Digite um último número:  10\n"
     ]
    },
    {
     "name": "stdout",
     "output_type": "stream",
     "text": [
      "O maior número é:  10\n",
      "O menor número é:  3\n"
     ]
    }
   ],
   "source": [
    "a = int(input(\"digite um número: \"))\n",
    "b = int(input(\"Digite um segundo número: \"))\n",
    "c = int(input(\"Digite um último número: \"))\n",
    "maior = a\n",
    "if b > a and b > c:\n",
    "    maior = b\n",
    "if c > a and c > b:\n",
    "    maior = c\n",
    "menor = a\n",
    "if b < c and b < a:\n",
    "    menor = b\n",
    "if c < b and c < a:\n",
    "    menor = c\n",
    "print(\"O maior número é: \", maior)\n",
    "print(\"O menor número é: \", menor)"
   ]
  },
  {
   "cell_type": "code",
   "execution_count": null,
   "id": "f7dc3c7f-c3ac-46ab-a9f6-ae5545b6d8db",
   "metadata": {},
   "outputs": [],
   "source": [
    "salário = int(input(\"Informe o valor do seu salário: \"))\n",
    "if salário > 1250:\n",
    "    aumento\n",
    "    if = salário*0.1"
   ]
  }
 ],
 "metadata": {
  "kernelspec": {
   "display_name": "Python 3 (ipykernel)",
   "language": "python",
   "name": "python3"
  },
  "language_info": {
   "codemirror_mode": {
    "name": "ipython",
    "version": 3
   },
   "file_extension": ".py",
   "mimetype": "text/x-python",
   "name": "python",
   "nbconvert_exporter": "python",
   "pygments_lexer": "ipython3",
   "version": "3.12.2"
  }
 },
 "nbformat": 4,
 "nbformat_minor": 5
}
