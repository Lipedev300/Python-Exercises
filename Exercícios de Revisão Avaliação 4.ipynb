{
 "cells": [
  {
   "cell_type": "code",
   "execution_count": null,
   "id": "bd0877c7-4d44-4a60-b82a-23873a998d6a",
   "metadata": {},
   "outputs": [],
   "source": [
    "lista = [1, 2, 3, 4, 5]\n",
    "print(lista)"
   ]
  },
  {
   "cell_type": "code",
   "execution_count": null,
   "id": "9d4e065a-7def-4d20-b46f-5806e3418435",
   "metadata": {},
   "outputs": [],
   "source": [
    "numeros = [3, 4.5, 3.6, 9.7, 8.4, 3.9, 14.5, 31.4, 54.2, 70]\n",
    "for _ in :\n",
    "    numeros.sort(reverse=True)\n",
    "print(numeros)"
   ]
  },
  {
   "cell_type": "code",
   "execution_count": null,
   "id": "71bafe8c-b09c-4450-8228-81dd7f47c6b4",
   "metadata": {},
   "outputs": [],
   "source": [
    "notas = [7.5, 8.5, 8, 10]\n",
    "print(notas)\n",
    "soma = 0\n",
    "for i in range(len(notas)):\n",
    "    soma += notas[i]\n",
    "media = soma/len(notas)\n",
    "print(\"A média das notas é: \", media)"
   ]
  },
  {
   "cell_type": "code",
   "execution_count": null,
   "id": "9452c765-6bc7-4961-8237-e55203f3869e",
   "metadata": {},
   "outputs": [],
   "source": [
    "vetor = []\n",
    "\n",
    "# Lendo os 10 caracteres\n",
    "for i in range(10):\n",
    "    caractere = input(f\"Digite o {i+1}º caractere: \")\n",
    "    vetor.append(caractere)\n",
    "\n",
    "consoantes = ['b', 'c', 'd', 'f', 'g', 'h', 'j', 'k', 'l', 'm', 'n', 'p', 'q', 'r', 's', 't', 'v', 'w', 'x', 'y', 'z']\n",
    "\n",
    "contador_consoantes = 0\n",
    "consoantes_lidas = []\n",
    "\n",
    "# Verificando quantas consoantes foram lidas e armazenando-as\n",
    "for char in vetor:\n",
    "    if char.lower() in consoantes:\n",
    "        contador_consoantes += 1\n",
    "        consoantes_lidas.append(char)\n",
    "\n",
    "# Imprimindo o número de consoantes e as consoantes lidas\n",
    "print(f\"Foram lidas {contador_consoantes} consoantes:\")\n",
    "print(consoantes_lidas)\n"
   ]
  },
  {
   "cell_type": "code",
   "execution_count": null,
   "id": "01f6bb2a-8463-4208-8b87-9beb477f3ba4",
   "metadata": {},
   "outputs": [],
   "source": [
    "lista = [1, 2, 3, 4, 5, 6, 7, 8, 9, 10, 11, 12, 13, 14, 15, 16, 17, 18, 19, 20]\n",
    "ímpares = []\n",
    "for i in range(1, 20, 2):\n",
    "    ímpares.append(i)\n",
    "print(ímpares)\n",
    "pares = []\n",
    "for i in range(2, 21, 2):\n",
    "    pares.append(i)\n",
    "print(pares)"
   ]
  },
  {
   "cell_type": "code",
   "execution_count": null,
   "id": "9f743a27-bfb7-4871-91e9-bd42c75f6b1c",
   "metadata": {},
   "outputs": [],
   "source": [
    "aluno1 = [7.0, 5.5, 9.0, 10]\n",
    "soma = sum(aluno1)\n",
    "media1 = soma/len(aluno1)\n",
    "\n",
    "aluno2 = [9, 10, 4, 8]\n",
    "soma = sum(aluno2)\n",
    "media2 = soma/len(aluno2)\n",
    "\n",
    "aluno3 = [8, 6, 9, 5]\n",
    "soma = sum(aluno3)\n",
    "media3 = soma/len(aluno3)\n",
    "\n",
    "aluno4 = [7, 9, 10, 8]\n",
    "soma = sum(aluno4)\n",
    "media4 = soma/len(aluno4)\n",
    "\n",
    "aluno5 = [10, 7, 4.5, 9.5]\n",
    "soma = sum(aluno5)\n",
    "media5 = soma/len(aluno5)\n",
    "\n",
    "aluno6 = [3.5, 8, 6.5, 10]\n",
    "soma = sum(aluno6)\n",
    "media6 = soma/len(aluno6)\n",
    "\n",
    "aluno7 = [10, 9.5, 8, 9]\n",
    "soma = sum(aluno7)\n",
    "media7 = soma/len(aluno7)\n",
    "\n",
    "aluno8 = [9, 4.5, 10, 8]\n",
    "soma = sum(aluno8)\n",
    "media8 = soma/len(aluno8)\n",
    "\n",
    "aluno9 = [4.5, 6.8, 7, 4]\n",
    "soma = sum(aluno9)\n",
    "media9 = soma/len(aluno9)\n",
    "\n",
    "aluno10 = [9, 10, 8, 10]\n",
    "soma = sum(aluno10)\n",
    "media10 = soma/len(aluno10)\n",
    "\n",
    "medias = [media1, media2, media3, media4, media5, media6, media7, media8, media9, media10]\n",
    "print(medias)\n",
    "contador_media = 0\n",
    "for i in medias:\n",
    "    if i >= 7:\n",
    "        contador_media += 1\n",
    "print(f\"Foram cerca de {contador_media} alunos que tiveram média acima de 7\")"
   ]
  },
  {
   "cell_type": "code",
   "execution_count": 9,
   "id": "2324a7f7-d0aa-4e31-ad21-96c1b807de56",
   "metadata": {},
   "outputs": [
    {
     "name": "stdout",
     "output_type": "stream",
     "text": [
      "[5, 10, 15, 20, 25]\n",
      "Soma dos números é:  75\n",
      "Multiplicação dos números é:  375000\n"
     ]
    }
   ],
   "source": [
    "numeros = [5, 10, 15, 20, 25]\n",
    "print(numeros)\n",
    "soma = 0\n",
    "for i in range(len(numeros)):\n",
    "    soma += numeros[i]\n",
    "print(\"Soma dos números é: \", soma)\n",
    "multiplica = 1\n",
    "for i in range(len(numeros)):\n",
    "    multiplica *= numeros[i]\n",
    "print(\"Multiplicação dos números é: \", multiplica)"
   ]
  },
  {
   "cell_type": "code",
   "execution_count": 16,
   "id": "793fb5f2-fdd0-49a1-9647-242e829a8da5",
   "metadata": {},
   "outputs": [
    {
     "name": "stdout",
     "output_type": "stream",
     "text": [
      "Entre com a altura:  1.6\n",
      "Entre com a idade:  18\n",
      "Entre com a altura:  1.8\n",
      "Entre com a idade:  25\n",
      "Entre com a altura:  1.9\n",
      "Entre com a idade:  30\n",
      "Entre com a altura:  2\n",
      "Entre com a idade:  40\n",
      "Entre com a altura:  1.5\n",
      "Entre com a idade:  80\n"
     ]
    },
    {
     "name": "stdout",
     "output_type": "stream",
     "text": [
      "[1.5, 2.0, 1.9, 1.8, 1.6]\n",
      "[80, 40, 30, 25, 18]\n"
     ]
    }
   ],
   "source": [
    "alturas = []\n",
    "idades = []\n",
    "n = 5\n",
    "for _ in range(n):\n",
    "    a = float(input(\"Entre com a altura: \"))\n",
    "    i = int(input(\"Entre com a idade: \"))\n",
    "    alturas.append(a)\n",
    "    idades.append(i)\n",
    "print(alturas[::-1])\n",
    "print(idades[::-1])"
   ]
  },
  {
   "cell_type": "code",
   "execution_count": 26,
   "id": "b7403546-66a9-4841-b486-54c8d2eec8fa",
   "metadata": {},
   "outputs": [
    {
     "name": "stdout",
     "output_type": "stream",
     "text": [
      "[1]\n",
      "[1, 4]\n",
      "[1, 4, 9]\n",
      "[1, 4, 9, 16]\n",
      "[1, 4, 9, 16, 25]\n",
      "[1, 4, 9, 16, 25, 36]\n",
      "[1, 4, 9, 16, 25, 36, 49]\n",
      "[1, 4, 9, 16, 25, 36, 49, 64]\n",
      "[1, 4, 9, 16, 25, 36, 49, 64, 81]\n",
      "[1, 4, 9, 16, 25, 36, 49, 64, 81, 100]\n",
      "Soma dos números ao quadrado da lista a:  385\n"
     ]
    }
   ],
   "source": [
    "a = [1, 2, 3, 4, 5, 6, 7, 8, 9, 10]\n",
    "quadrados = []\n",
    "for i in a:\n",
    "    quadrados.append(i**2)\n",
    "    print(quadrados)\n",
    "    soma = 0\n",
    "    for i in quadrados:\n",
    "        soma += i\n",
    "print(\"Soma dos números ao quadrado da lista a: \", soma)"
   ]
  },
  {
   "cell_type": "code",
   "execution_count": 3,
   "id": "55dc805a-d6f1-4751-bb50-33e52c425d42",
   "metadata": {},
   "outputs": [
    {
     "data": {
      "text/plain": [
       "12"
      ]
     },
     "execution_count": 3,
     "metadata": {},
     "output_type": "execute_result"
    }
   ],
   "source": [
    "def somaTriNumero(a, b, c):\n",
    "    return a+b+c\n",
    "somaTriNumero(3, 4, 5)"
   ]
  },
  {
   "cell_type": "code",
   "execution_count": 5,
   "id": "6f356e43-b5a4-420e-ab9e-888440ea4a74",
   "metadata": {},
   "outputs": [
    {
     "name": "stdout",
     "output_type": "stream",
     "text": [
      "n\n"
     ]
    }
   ],
   "source": [
    "def sinalNumero(t):\n",
    "    if t >= 0:\n",
    "        print(\"p\")\n",
    "    if t <= 0:\n",
    "        print(\"n\")\n",
    "sinalNumero(5)"
   ]
  },
  {
   "cell_type": "code",
   "execution_count": 13,
   "id": "93dc0e1b-55f8-4368-9096-10de65aac6ce",
   "metadata": {},
   "outputs": [
    {
     "name": "stdout",
     "output_type": "stream",
     "text": [
      "Digite o preço inicial do produto:  200\n",
      "Digite o valor do percentual de imposto que será cobrado sobre esse produto:  20\n"
     ]
    },
    {
     "name": "stdout",
     "output_type": "stream",
     "text": [
      "O preço final do produto, contando os impostos, é:  240.0\n"
     ]
    }
   ],
   "source": [
    "custo = int(input(\"Digite o preço inicial do produto: \"))\n",
    "taxaImposto = int(input(\"Digite o valor do percentual de imposto que será cobrado sobre esse produto: \"))\n",
    "def somaImposto(taxaImposto, custo):\n",
    "    custo = custo + custo*taxaImposto / 100\n",
    "    print(\"O preço final do produto, contando os impostos, é: \", custo)\n",
    "somaImposto(taxaImposto, custo)"
   ]
  },
  {
   "cell_type": "code",
   "execution_count": null,
   "id": "e7794787",
   "metadata": {},
   "outputs": [],
   "source": [
    "\"\"\"\n",
    "Este conjunto de exercícios foi para uma avaliação da faculdade sobre lógica de programação em python.\n",
    "Cada célula dessas é um exercício, e o principal conceito abordado foram listas e vetores.\n",
    "Porém, em muitos exercícios foram também usados loops for e condicionais if/else.\n",
    "\"\"\""
   ]
  }
 ],
 "metadata": {
  "kernelspec": {
   "display_name": "Python 3 (ipykernel)",
   "language": "python",
   "name": "python3"
  },
  "language_info": {
   "codemirror_mode": {
    "name": "ipython",
    "version": 3
   },
   "file_extension": ".py",
   "mimetype": "text/x-python",
   "name": "python",
   "nbconvert_exporter": "python",
   "pygments_lexer": "ipython3",
   "version": "3.12.2"
  }
 },
 "nbformat": 4,
 "nbformat_minor": 5
}
