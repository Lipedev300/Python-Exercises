{
 "cells": [
  {
   "cell_type": "code",
   "execution_count": 1,
   "id": "e0707c8a-a830-485f-9d7b-9227c4d3d1e8",
   "metadata": {},
   "outputs": [
    {
     "data": {
      "text/plain": [
       "11"
      ]
     },
     "execution_count": 1,
     "metadata": {},
     "output_type": "execute_result"
    }
   ],
   "source": [
    "a = \"idade\"\n",
    "b = \"qual a sua idade?\"\n",
    "b.find(a)"
   ]
  },
  {
   "cell_type": "code",
   "execution_count": 6,
   "id": "94720231-05a7-443e-8013-3f49a4d439d2",
   "metadata": {},
   "outputs": [
    {
     "name": "stdin",
     "output_type": "stream",
     "text": [
      "Digite uma palavra:  idade\n",
      "Digite outra palavra:  carro\n"
     ]
    },
    {
     "name": "stdout",
     "output_type": "stream",
     "text": [
      "a\n"
     ]
    }
   ],
   "source": [
    "a = input(\"Digite uma palavra: \")\n",
    "b = input(\"Digite outra palavra: \")\n",
    "terceira = \"\"\n",
    "for letra in a:\n",
    "    if letra in b:\n",
    "        terceira = terceira + letra\n",
    "print(terceira)"
   ]
  },
  {
   "cell_type": "code",
   "execution_count": 1,
   "id": "8a07b91b-2ec7-4439-8418-23596395d4a1",
   "metadata": {},
   "outputs": [
    {
     "name": "stdin",
     "output_type": "stream",
     "text": [
      "Digite uma palavra:  cavalo\n",
      "Digite outra palavra:  carro\n"
     ]
    },
    {
     "name": "stdout",
     "output_type": "stream",
     "text": [
      "String com os caracteres exclusivos:  vlr\n"
     ]
    }
   ],
   "source": [
    "a = input(\"Digite uma palavra: \")\n",
    "b = input(\"Digite outra palavra: \")\n",
    "terceira = \"\"\n",
    "for letra in a:\n",
    "    if letra not in b and letra not in terceira:\n",
    "        terceira += letra\n",
    "for letra in b:\n",
    "    if letra not in a and letra not in terceira:\n",
    "        terceira += letra\n",
    "        print(\"String com os caracteres exclusivos: \", terceira)"
   ]
  },
  {
   "cell_type": "code",
   "execution_count": 3,
   "id": "4479ce22-327e-4429-a338-58c122e5c1e5",
   "metadata": {},
   "outputs": [
    {
     "name": "stdin",
     "output_type": "stream",
     "text": [
      "Digite uma palavra:  casarão\n",
      "Digite outra palavra:  casa\n"
     ]
    },
    {
     "name": "stdout",
     "output_type": "stream",
     "text": [
      "Os caracteres da segunda string foram retirados da primeira, gerando:  rão\n"
     ]
    }
   ],
   "source": [
    "a = input(\"Digite uma palavra: \")\n",
    "b = input(\"Digite outra palavra: \")\n",
    "terceira = \"\"\n",
    "for letra in a:\n",
    "    if letra not in b:\n",
    "        terceira += letra\n",
    "if terceira == \"\":\n",
    "    print(\"Caracteres não encontrados\")\n",
    "else:\n",
    "    print(\"Os caracteres da segunda string foram retirados da primeira, gerando: \", terceira)"
   ]
  }
 ],
 "metadata": {
  "kernelspec": {
   "display_name": "Python 3 (ipykernel)",
   "language": "python",
   "name": "python3"
  },
  "language_info": {
   "codemirror_mode": {
    "name": "ipython",
    "version": 3
   },
   "file_extension": ".py",
   "mimetype": "text/x-python",
   "name": "python",
   "nbconvert_exporter": "python",
   "pygments_lexer": "ipython3",
   "version": "3.12.2"
  }
 },
 "nbformat": 4,
 "nbformat_minor": 5
}
